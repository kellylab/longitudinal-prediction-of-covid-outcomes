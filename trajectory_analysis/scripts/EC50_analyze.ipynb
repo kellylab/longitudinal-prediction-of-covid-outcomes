{
 "cells": [
  {
   "cell_type": "code",
   "execution_count": 1,
   "metadata": {},
   "outputs": [],
   "source": [
    "import pandas as pd\n",
    "import numpy as np\n",
    "from IPython.display import display\n",
    "import matplotlib.pyplot as plt\n",
    "import seaborn as sns\n",
    "import os\n",
    "import shutil\n",
    "from statannot import add_stat_annotation\n",
    "from scipy import stats\n",
    "from statsmodels.stats.multitest import multipletests"
   ]
  },
  {
   "cell_type": "markdown",
   "metadata": {},
   "source": [
    "### Input Files "
   ]
  },
  {
   "cell_type": "code",
   "execution_count": 2,
   "metadata": {},
   "outputs": [],
   "source": [
    "ec50_file = '../input/ec50_values.xlsx'\n",
    "survival_file = '../input/severity_category.xlsx'\n",
    "oxygen_file = '../input/oxygensuppl_category.xlsx'\n",
    "ethinicity_file = '../input/ethnicity_category.xlsx'\n",
    "race_file = '../input/race_category.xlsx'"
   ]
  },
  {
   "cell_type": "markdown",
   "metadata": {},
   "source": [
    "### Objects"
   ]
  },
  {
   "cell_type": "code",
   "execution_count": 3,
   "metadata": {},
   "outputs": [],
   "source": [
    "os.chdir('classes')\n",
    "%run longit.ipynb\n",
    "ecf = LONGIT()\n",
    "%run categories.ipynb\n",
    "cat = CATEGORY()\n",
    "etnic = ETHNICITY()\n",
    "race = RACE()\n",
    "%run correct_pval.ipynb\n",
    "os.chdir('..')"
   ]
  },
  {
   "cell_type": "markdown",
   "metadata": {},
   "source": [
    "### Initializing directories  "
   ]
  },
  {
   "cell_type": "code",
   "execution_count": 4,
   "metadata": {},
   "outputs": [],
   "source": [
    "outdir = '../output/'\n",
    "targetVar = 'EC50'\n",
    "# Initialize directory if exists\n",
    "if os.path.isdir(outdir + targetVar):\n",
    "    shutil.rmtree(outdir + targetVar)\n",
    "os.mkdir(outdir + targetVar)\n",
    "\n",
    "# Overview\n",
    "if not os.path.isdir(outdir + targetVar + '/overview'):\n",
    "    os.mkdir(outdir + targetVar + '/overview')\n",
    "if not os.path.isdir(outdir + targetVar + '/overview_win5'):\n",
    "    os.mkdir(outdir + targetVar + '/overview_win5')\n",
    "\n",
    "# Survival\n",
    "if not os.path.isdir(outdir + targetVar + '/survival_win5'):\n",
    "    os.mkdir(outdir + targetVar + '/survival_win5')\n",
    "\n",
    "# Oxygen\n",
    "if not os.path.isdir(outdir + targetVar + '/oxygenation_win5'):\n",
    "    os.mkdir(outdir + targetVar + '/oxygenation_win5')\n",
    "\n",
    "# Severity\n",
    "if not os.path.isdir(outdir + targetVar + '/severity_win5'):\n",
    "    os.mkdir(outdir + targetVar + '/severity_win5')\n",
    "\n",
    "# Ethnicity\n",
    "if not os.path.isdir(outdir + targetVar + '/ethnicity_win5'):\n",
    "    os.mkdir(outdir + targetVar + '/ethnicity_win5')\n",
    "\n",
    "# Race\n",
    "if not os.path.isdir(outdir + targetVar + '/race_win5'):\n",
    "    os.mkdir(outdir + targetVar + '/race_win5')# Severity"
   ]
  },
  {
   "cell_type": "markdown",
   "metadata": {},
   "source": [
    "### Load EC50 file and perform initial processing"
   ]
  },
  {
   "cell_type": "code",
   "execution_count": 5,
   "metadata": {},
   "outputs": [],
   "source": [
    "# load input file with EC50 values\n",
    "ecf.loadfiletodf(ec50_file)\n",
    "# print('rows: {}\\tcolumns:{}'.format(ecf.df.shape[0], ecf.df.shape[1]))\n",
    "\n",
    "# Remove useless columns\n",
    "col_2_del =['Notes','run1_description','run1_date','run1_1/EC50','run2_date','run2_description',\n",
    "            'run2_1/EC50','(run1_1/EC50)/(run2_1/EC50)','Sample#']\n",
    "df_1 = ecf.df.drop(columns=col_2_del)\n",
    "df_1 = df_1.rename(columns={\"sampleID_onset_080620\": \"sampleID_onset\"})\n",
    "# print('rows: {}\\tcolumns:{}'.format(df_1.shape[0], df_1.shape[1]))\n",
    "\n",
    "# Remove samples with missing elements\n",
    "df_missing, df_2 = ecf.samples_with_missing_elements(df_1)\n",
    "# display(df_missing)\n",
    "# print('rows: {}\\tcolumns:{}'.format(df_2.shape[0], df_2.shape[1]))\n",
    "\n",
    "# Reformat onset\n",
    "df_3 = ecf.reformat_onset(df_2)\n",
    "# print('rows: {}\\tcolumns:{}'.format(df_3.shape[0], df_3.shape[1]))"
   ]
  },
  {
   "cell_type": "code",
   "execution_count": 6,
   "metadata": {},
   "outputs": [
    {
     "name": "stdout",
     "output_type": "stream",
     "text": [
      "Rows with incoherent EC50 values: 0\n",
      "Rows passing filter: 1056\n"
     ]
    },
    {
     "data": {
      "text/html": [
       "<div>\n",
       "<style scoped>\n",
       "    .dataframe tbody tr th:only-of-type {\n",
       "        vertical-align: middle;\n",
       "    }\n",
       "\n",
       "    .dataframe tbody tr th {\n",
       "        vertical-align: top;\n",
       "    }\n",
       "\n",
       "    .dataframe thead th {\n",
       "        text-align: right;\n",
       "    }\n",
       "</style>\n",
       "<table border=\"1\" class=\"dataframe\">\n",
       "  <thead>\n",
       "    <tr style=\"text-align: right;\">\n",
       "      <th></th>\n",
       "      <th>sampleID</th>\n",
       "      <th>Pt#</th>\n",
       "      <th>sampleID_onset</th>\n",
       "      <th>run1_EC50</th>\n",
       "      <th>run2_EC50</th>\n",
       "      <th>average_EC50</th>\n",
       "    </tr>\n",
       "  </thead>\n",
       "  <tbody>\n",
       "    <tr>\n",
       "      <th>0</th>\n",
       "      <td>6-01</td>\n",
       "      <td>6.0</td>\n",
       "      <td>7</td>\n",
       "      <td>0.000951</td>\n",
       "      <td>0.000676</td>\n",
       "      <td>0.000814</td>\n",
       "    </tr>\n",
       "    <tr>\n",
       "      <th>1</th>\n",
       "      <td>6-02</td>\n",
       "      <td>6.0</td>\n",
       "      <td>8</td>\n",
       "      <td>0.000857</td>\n",
       "      <td>0.000484</td>\n",
       "      <td>0.000670</td>\n",
       "    </tr>\n",
       "    <tr>\n",
       "      <th>2</th>\n",
       "      <td>6-03</td>\n",
       "      <td>6.0</td>\n",
       "      <td>9</td>\n",
       "      <td>0.000321</td>\n",
       "      <td>0.000343</td>\n",
       "      <td>0.000332</td>\n",
       "    </tr>\n",
       "    <tr>\n",
       "      <th>3</th>\n",
       "      <td>6-04</td>\n",
       "      <td>6.0</td>\n",
       "      <td>10</td>\n",
       "      <td>0.000166</td>\n",
       "      <td>0.000197</td>\n",
       "      <td>0.000182</td>\n",
       "    </tr>\n",
       "    <tr>\n",
       "      <th>4</th>\n",
       "      <td>6-05</td>\n",
       "      <td>6.0</td>\n",
       "      <td>11</td>\n",
       "      <td>0.000028</td>\n",
       "      <td>0.000038</td>\n",
       "      <td>0.000033</td>\n",
       "    </tr>\n",
       "    <tr>\n",
       "      <th>...</th>\n",
       "      <td>...</td>\n",
       "      <td>...</td>\n",
       "      <td>...</td>\n",
       "      <td>...</td>\n",
       "      <td>...</td>\n",
       "      <td>...</td>\n",
       "    </tr>\n",
       "    <tr>\n",
       "      <th>1052</th>\n",
       "      <td>195-4</td>\n",
       "      <td>195.0</td>\n",
       "      <td>18</td>\n",
       "      <td>0.000013</td>\n",
       "      <td>0.000017</td>\n",
       "      <td>0.000015</td>\n",
       "    </tr>\n",
       "    <tr>\n",
       "      <th>1053</th>\n",
       "      <td>196-0</td>\n",
       "      <td>196.0</td>\n",
       "      <td>7</td>\n",
       "      <td>0.003363</td>\n",
       "      <td>0.002265</td>\n",
       "      <td>0.002814</td>\n",
       "    </tr>\n",
       "    <tr>\n",
       "      <th>1054</th>\n",
       "      <td>196-2</td>\n",
       "      <td>196.0</td>\n",
       "      <td>9</td>\n",
       "      <td>0.000461</td>\n",
       "      <td>0.000823</td>\n",
       "      <td>0.000642</td>\n",
       "    </tr>\n",
       "    <tr>\n",
       "      <th>1055</th>\n",
       "      <td>196-4</td>\n",
       "      <td>196.0</td>\n",
       "      <td>11</td>\n",
       "      <td>0.000102</td>\n",
       "      <td>0.000134</td>\n",
       "      <td>0.000118</td>\n",
       "    </tr>\n",
       "    <tr>\n",
       "      <th>1056</th>\n",
       "      <td>196-6</td>\n",
       "      <td>196.0</td>\n",
       "      <td>13</td>\n",
       "      <td>0.000055</td>\n",
       "      <td>0.000048</td>\n",
       "      <td>0.000052</td>\n",
       "    </tr>\n",
       "  </tbody>\n",
       "</table>\n",
       "<p>1056 rows × 6 columns</p>\n",
       "</div>"
      ],
      "text/plain": [
       "     sampleID    Pt# sampleID_onset  run1_EC50  run2_EC50  average_EC50\n",
       "0        6-01    6.0              7   0.000951   0.000676      0.000814\n",
       "1        6-02    6.0              8   0.000857   0.000484      0.000670\n",
       "2        6-03    6.0              9   0.000321   0.000343      0.000332\n",
       "3        6-04    6.0             10   0.000166   0.000197      0.000182\n",
       "4        6-05    6.0             11   0.000028   0.000038      0.000033\n",
       "...       ...    ...            ...        ...        ...           ...\n",
       "1052    195-4  195.0             18   0.000013   0.000017      0.000015\n",
       "1053    196-0  196.0              7   0.003363   0.002265      0.002814\n",
       "1054    196-2  196.0              9   0.000461   0.000823      0.000642\n",
       "1055    196-4  196.0             11   0.000102   0.000134      0.000118\n",
       "1056    196-6  196.0             13   0.000055   0.000048      0.000052\n",
       "\n",
       "[1056 rows x 6 columns]"
      ]
     },
     "metadata": {},
     "output_type": "display_data"
    }
   ],
   "source": [
    "# Remove samples where EC50 dissagree by more than x\n",
    "thresh = 3\n",
    "df4_incoherent, df4 = ecf.incoherent_ec50(df_3, thresh)\n",
    "print('Rows with incoherent EC50 values:',len(df4_incoherent))\n",
    "print('Rows passing filter:',len(df4))\n",
    "display(df4)"
   ]
  },
  {
   "cell_type": "markdown",
   "metadata": {},
   "source": [
    "### Loading survival data"
   ]
  },
  {
   "cell_type": "code",
   "execution_count": 7,
   "metadata": {},
   "outputs": [],
   "source": [
    "df_surv = pd.read_excel(survival_file,index_col=0,header=0)\n",
    "df_surv_gr = df_surv.groupby(['Outcome'])\n",
    "# Outcome: (0-home, 1-nursing home, 2-dead)\n",
    "# Survival groups: groups 0 & 1\n",
    "survival_indx_ar = np.concatenate([np.array(df_surv_gr.get_group('Mild').index), np.array(df_surv_gr.get_group('Severe').index)])\n",
    "nonsurvival_indx_ar = np.array(df_surv_gr.get_group('Non-survival').index)"
   ]
  },
  {
   "cell_type": "markdown",
   "metadata": {},
   "source": [
    "### Loading patient categories"
   ]
  },
  {
   "cell_type": "code",
   "execution_count": 8,
   "metadata": {},
   "outputs": [],
   "source": [
    "# Oxygen supplementation\n",
    "df_ox = cat.oxygen_supply_to_df(oxygen_file)\n",
    "# Ethnicity\n",
    "df_etnic = etnic.cat_to_df(ethinicity_file)\n",
    "# Race\n",
    "df_race = race.cat_to_df(race_file)"
   ]
  },
  {
   "cell_type": "markdown",
   "metadata": {},
   "source": [
    "### Loading EC50 data into df with right format for plotting"
   ]
  },
  {
   "cell_type": "code",
   "execution_count": 9,
   "metadata": {},
   "outputs": [],
   "source": [
    "# Transform data for plotting\n",
    "df_var = ecf.transform_df_for_plotting(df4,'Pt#','sampleID_onset','average_EC50')\n",
    "df_var = -np.log10(df_var)\n",
    "df_var_win5 = ecf.average_EC50_slidingWindow(df_var, 2)"
   ]
  },
  {
   "cell_type": "markdown",
   "metadata": {},
   "source": [
    "### New dataframes with survival data, oxygenation data and severity data"
   ]
  },
  {
   "cell_type": "code",
   "execution_count": 10,
   "metadata": {},
   "outputs": [],
   "source": [
    "# add survival category to df\n",
    "df_var_surv_win5 = ecf.add_survival_to_df(df_var_win5, survival_indx_ar, nonsurvival_indx_ar)\n",
    "df_var_surv_win5.to_excel(outdir + targetVar + '/survival_win5/' + targetVar + '_survival.xlsx')"
   ]
  },
  {
   "cell_type": "code",
   "execution_count": 11,
   "metadata": {},
   "outputs": [],
   "source": [
    "# Add oxygenation to df\n",
    "df_var_ox_win5 = ecf.add_category_to_df(df_var_win5, df_ox)\n",
    "\n",
    "for index, row in df_var_ox_win5.iterrows():\n",
    "    if row['Patient'] in nonsurvival_indx_ar:\n",
    "        df_var_ox_win5.at[index, 'Category'] = 'Non-survival'\n",
    "\n",
    "df_var_ox_win5.to_excel(outdir + targetVar + '/oxygenation_win5/' + targetVar + '_oxygen_win5.xlsx')"
   ]
  },
  {
   "cell_type": "code",
   "execution_count": 12,
   "metadata": {},
   "outputs": [],
   "source": [
    "# Add severity to new df\n",
    "cat_four = ['Room air','Nasal canula', 'NRM','CPAP-BPAP','HiFlow', 'Intubation']\n",
    "cat_two = ['Room_air','Mild', 'Mild', 'Severe','Severe', 'Severe']\n",
    "df_var_ox2_win5 = df_var_ox_win5.copy()\n",
    "df_var_ox2_win5.replace(cat_four, cat_two, inplace=True)\n",
    "\n",
    "for index, row in df_var_ox2_win5.iterrows():\n",
    "    if row['Patient'] in nonsurvival_indx_ar:\n",
    "        df_var_ox2_win5.at[index, 'Category'] = 'Non-survival'\n",
    "\n",
    "df_var_ox2_win5.to_excel(outdir + targetVar + '/severity_win5/' + targetVar + '_oxygen_5cat_win.xlsx')"
   ]
  },
  {
   "cell_type": "code",
   "execution_count": 13,
   "metadata": {},
   "outputs": [],
   "source": [
    "# Add ethnicity to df\n",
    "df_var_etnic_win5 = ecf.add_category_to_df(df_var_win5, df_etnic)\n",
    "df_var_etnic_win5.to_excel(outdir + targetVar + '/ethnicity_win5/' + targetVar + '_ethnicity_win5.xlsx')"
   ]
  },
  {
   "cell_type": "code",
   "execution_count": 14,
   "metadata": {},
   "outputs": [],
   "source": [
    "# Add race to df\n",
    "df_var_race_win5 = ecf.add_category_to_df(df_var_win5, df_race)\n",
    "df_var_race_win5.to_excel(outdir + targetVar + '/race_win5/' + targetVar + '_race_win5.xlsx')"
   ]
  },
  {
   "cell_type": "markdown",
   "metadata": {},
   "source": [
    "### New df with all info for a given variable of interest "
   ]
  },
  {
   "cell_type": "code",
   "execution_count": 15,
   "metadata": {},
   "outputs": [],
   "source": [
    "# Making a dataframe with all the required info\n",
    "df_var_info = df_var.copy()\n",
    "df_var_win5_info = df_var_win5.copy()\n",
    "\n",
    "# Survival data\n",
    "for item in survival_indx_ar:\n",
    "    df_var_info.loc[item, 'Survival'] = 'Survival'\n",
    "    df_var_win5_info.loc[item, 'Survival'] = 'Survival'\n",
    "for item in nonsurvival_indx_ar:\n",
    "    df_var_info.loc[item, 'Survival'] = 'Non-Survival'\n",
    "    df_var_win5_info.loc[item, 'Survival'] = 'Non-Survival'\n",
    "# Oxygenation type\n",
    "for patient, row in df_ox.iterrows():\n",
    "    cat = row[0]\n",
    "    df_var_info.loc[patient, 'Oxygenation'] = cat\n",
    "    df_var_win5_info.loc[patient, 'Oxygenation'] = cat\n",
    "    if df_var_info.loc[patient,'Survival'] == 'Survival':\n",
    "        if cat == 'Room air':\n",
    "            df_var_info.loc[patient, 'Category'] = 'Room air'\n",
    "            df_var_win5_info.loc[patient, 'Category'] = 'Room air'\n",
    "        elif cat == 'Nasal canula' or cat == 'NRM':\n",
    "            df_var_info.loc[patient, 'Category'] = 'Mild'\n",
    "            df_var_win5_info.loc[patient, 'Category'] = 'Mild'\n",
    "        elif cat == 'HiFlow' or cat == 'Intubation' or cat == 'CPAP-BPAP':\n",
    "            df_var_info.loc[patient, 'Category'] = 'Severe'\n",
    "            df_var_win5_info.loc[patient, 'Category'] = 'Severe'\n",
    "    elif df_var_info.loc[patient,'Survival'] == 'Non-Survival':\n",
    "        df_var_info.loc[patient, 'Category'] = 'Non-Survival'\n",
    "        df_var_win5_info.loc[patient, 'Category'] = 'Non-Survival'\n",
    "# ethnicity\n",
    "for patient, row in df_etnic.iterrows():\n",
    "#     print(row[0])\n",
    "    cat = row[0]\n",
    "    df_var_info.loc[patient, 'Ethnicity'] = cat\n",
    "    df_var_win5_info.loc[patient, 'Ethnicity'] = cat\n",
    "    \n",
    "# race\n",
    "for patient, row in df_race.iterrows():\n",
    "    cat = row[0]\n",
    "    df_var_info.loc[patient, 'Race'] = cat\n",
    "    df_var_win5_info.loc[patient, 'Race'] = cat\n",
    "    \n",
    "df_var_info.to_excel(outdir + targetVar + '/' + targetVar + '_dataframe.xlsx')\n",
    "df_var_win5_info.to_excel(outdir + targetVar + '/' + targetVar + '_win5_dataframe.xlsx')"
   ]
  },
  {
   "cell_type": "markdown",
   "metadata": {},
   "source": [
    "### Plotting data coverage and histograms¶"
   ]
  },
  {
   "cell_type": "code",
   "execution_count": 16,
   "metadata": {},
   "outputs": [],
   "source": [
    "%%capture\n",
    "# Plot datapoints per day\n",
    "ecf.plot_points_per_day(df_var,outdir + targetVar + '/overview/' + targetVar + '_histogram_patients_per_onsetday.pdf')\n",
    "ecf.plot_points_per_day(df_var_win5,outdir + targetVar + '/overview_win5/' + targetVar + '_histogram_patients_per_onsetday_win5.pdf')\n",
    "# Plot datapoints per patient\n",
    "ecf.plot_points_per_patient(df_var,outdir + targetVar + '/overview/' + targetVar + '_histogram_patients_per_readoutDays.pdf')\n",
    "ecf.plot_points_per_patient(df_var_win5,outdir + targetVar + '/overview_win5/' + targetVar + '_histogram_patients_per_readoutDays_win5.pdf')\n",
    "# Plot available data for each patient in a clustermap\n",
    "ecf.plot_clustermap_availdata(df_var,outdir + targetVar + '/overview/' + targetVar + '_data_coverage.pdf')\n",
    "ecf.plot_clustermap_availdata(df_var_win5,outdir + targetVar + '/overview_win5/' + targetVar + '_data_coverage_win5.pdf')"
   ]
  },
  {
   "cell_type": "markdown",
   "metadata": {},
   "source": [
    "### Plotting raw data for each individual patient"
   ]
  },
  {
   "cell_type": "code",
   "execution_count": 17,
   "metadata": {},
   "outputs": [],
   "source": [
    "# Each day no window\n",
    "ecf.plot_ec50(np.array(df_var.index), df_var, outdir + targetVar + '/time_plot', \\\n",
    "              targetVar + '_timeline_all.pdf', targetVar)\n",
    "ecf.plot_ec50(np.array(df_var.index), df_var_win5, outdir + targetVar + '/time_plot_win5', \\\n",
    "              targetVar + '_timeline_all_win5.pdf', targetVar)\n",
    "for indx in np.array(df_var.index):\n",
    "    outfile = 'pat_' + str(indx) + '.pdf'\n",
    "    ecf.plot_ec50([indx], df_var, outdir + targetVar + '/time_plot', outfile, targetVar)\n",
    "    ecf.plot_ec50([indx], df_var_win5, outdir + targetVar + '/time_plot_win5', outfile, targetVar)"
   ]
  },
  {
   "cell_type": "code",
   "execution_count": 18,
   "metadata": {},
   "outputs": [
    {
     "name": "stdout",
     "output_type": "stream",
     "text": [
      "22.0\n",
      "71.0\n",
      "6.0\n"
     ]
    }
   ],
   "source": [
    "# Plotting representative patients\n",
    "indx_ar = [22.0, 71.0, 6.0]\n",
    "color_ar = ['#626567', '#5499C7', '#CD6155']\n",
    "i = 0\n",
    "f, ax = plt.subplots(figsize=[5,10])\n",
    "for indx in indx_ar:\n",
    "    print(indx)\n",
    "    col_ar = np.array(df_var_win5.columns)\n",
    "    val_ar = np.array(df_var_win5.loc[indx])\n",
    "    col_clean = col_ar[np.isfinite(val_ar)]\n",
    "    val_clean = val_ar[np.isfinite(val_ar)]\n",
    "    plt.plot(col_clean, val_clean,'o-', label=indx, markersize=6, linewidth=1.5, color=color_ar[i])    \n",
    "    i += 1\n",
    "label_font = {'fontname':'Helvetica Neue', 'fontsize':16}\n",
    "axis_font = {'fontname':'Helvetica Neue', 'fontsize':16}\n",
    "legend_font = {'fontname':'Helvetica Neue', 'fontsize':18}\n",
    "title_font = {'fontname':'Helvetica Neue', 'fontsize':20}\n",
    "plt.ylim(0,6)\n",
    "plt.xticks(np.arange(0,col_ar.max()+4,4))\n",
    "plt.xlim(4,25)\n",
    "plt.xlabel('Days after onset')\n",
    "plt.ylabel(targetVar)\n",
    "ax.spines['right'].set_visible(False)\n",
    "ax.spines['top'].set_visible(False)\n",
    "ax.spines['bottom'].set_linewidth(1)\n",
    "ax.spines['left'].set_linewidth(1)\n",
    "plt.ylabel('-log10(EC50)')\n",
    "plt.xlabel('Days after onset')\n",
    "outfile = 'representative_patients_22_71_6.pdf'\n",
    "outdir1 = outdir + targetVar + '/time_plot_win5'\n",
    "f.savefig(outdir1 + '/' + outfile,dpi=300, transparent=True)\n",
    "f.clear()\n",
    "plt.close(f)    "
   ]
  },
  {
   "cell_type": "markdown",
   "metadata": {},
   "source": [
    "### Plotting survival/nonsurvival using window5"
   ]
  },
  {
   "cell_type": "code",
   "execution_count": 19,
   "metadata": {},
   "outputs": [],
   "source": [
    "%%capture\n",
    "# Gather all pvalues for multiple testing correction\n",
    "# apply only to days with a mimimun number of samples per category (survival, non-survival)\n",
    "min_size_pvalcor = 10\n",
    "day_2_pval, day_2_pvalcor = ecf.multipletesting_day_to_pval(df_var_surv_win5, min_size_pvalcor, False)\n",
    "cat_order = ['Survival','Non-survival']\n",
    "palette_order = ['#98FAF3','#E8384F']\n",
    "# boxplot for each day, statistically comparing survival Vs nonSurvival\n",
    "day_st = set(df_var_surv_win5['Day'].tolist())\n",
    "for day in day_st:\n",
    "    ecf.plot_ec50_surival_boxplot(day, df_var_surv_win5, \\\n",
    "                                  outdir + targetVar + '/survival_win5/'+ targetVar + '_survival_boxplot_win5',\n",
    "                                  day_2_pval, day_2_pvalcor, min_size_pvalcor, False, targetVar, 0, 6, cat_order, palette_order)"
   ]
  },
  {
   "cell_type": "code",
   "execution_count": 20,
   "metadata": {},
   "outputs": [],
   "source": [
    "# boxplot and lineplot trajectories\n",
    "ecf.plot_ec50_survival_trajectory(df_var_surv_win5, \\\n",
    "                                  outdir + targetVar + '/survival_win5/'+ targetVar + '_survival_lineplot_trajectory_win5_mean.pdf', \\\n",
    "                                  False, targetVar, 'lineplot', 'mean', 0, 0, cat_order, palette_order)\n",
    "ecf.plot_ec50_survival_trajectory(df_var_surv_win5, \\\n",
    "                                  outdir + targetVar + '/survival_win5/'+ targetVar + '_survival_lineplot_trajectory_win5_median.pdf', \\\n",
    "                                  False, targetVar, 'lineplot', 'median', 0, 0, cat_order, palette_order)"
   ]
  },
  {
   "cell_type": "code",
   "execution_count": 21,
   "metadata": {},
   "outputs": [],
   "source": [
    "ecf.plot_ec50_survival_trajectory(df_var_surv_win5, \\\n",
    "                                  outdir + targetVar + '/survival_win5/'+ targetVar + '_survival_lineplot_trajectory_win5_mean_closeup.pdf', \\\n",
    "                                  False, targetVar, 'lineplot', 'mean', 30, 6, cat_order, palette_order)\n",
    "ecf.plot_ec50_survival_trajectory(df_var_surv_win5, \\\n",
    "                                  outdir + targetVar + '/survival_win5/'+ targetVar + '_survival_lineplot_trajectory_win5_median_closeup.pdf', \\\n",
    "                                  False, targetVar, 'lineplot', 'median', 30, 6, cat_order, palette_order)"
   ]
  },
  {
   "cell_type": "code",
   "execution_count": 22,
   "metadata": {},
   "outputs": [],
   "source": [
    "# All against all statistical comparison with mann-whitey\n",
    "day_st = set(df_var_surv_win5['Day'].tolist())\n",
    "cat_order = ['Non-survival','Survival']\n",
    "for day in day_st:\n",
    "    ecf.all_against_all_pairwise_mann_whitney(df_var_surv_win5, day,  outdir + targetVar + '/survival_win5',\n",
    "                                              '/'+ targetVar + '_survival_pairw_stats_win5' + '.txt', \\\n",
    "                                              cat_order)"
   ]
  },
  {
   "cell_type": "code",
   "execution_count": 23,
   "metadata": {},
   "outputs": [],
   "source": [
    "# Correct P-value\n",
    "correct = CORRECTPVAL(outdir + targetVar + '/survival_win5/'+ targetVar + '_survival_pairw_stats_win5' + '.txt')\n",
    "correct.readfile()\n",
    "correct.correctpval_byday(0.05)\n",
    "correct.save_correction()"
   ]
  },
  {
   "cell_type": "code",
   "execution_count": 24,
   "metadata": {},
   "outputs": [],
   "source": [
    "day_st = set(df_var_surv_win5['Day'].tolist())\n",
    "for day in day_st:\n",
    "    ecf.plot_targetVar_violinplot(day, df_var_surv_win5, \\\n",
    "                                  outdir + targetVar + '/survival_win5/'+ targetVar + '_survival_violinplot_win5', \\\n",
    "                                  False, targetVar, 0, 0, cat_order, palette_order)"
   ]
  },
  {
   "cell_type": "code",
   "execution_count": 25,
   "metadata": {},
   "outputs": [],
   "source": [
    "ecf.plot_targetVar_violinplot('All', df_var_surv_win5, \\\n",
    "                                  outdir + targetVar + '/survival_win5/'+ targetVar + '_survival_violinplot_win5', \\\n",
    "                                  False, targetVar, 0, 0, cat_order, palette_order)"
   ]
  },
  {
   "cell_type": "markdown",
   "metadata": {},
   "source": [
    "### Plotting oxygen supplementation using window5"
   ]
  },
  {
   "cell_type": "code",
   "execution_count": 26,
   "metadata": {},
   "outputs": [],
   "source": [
    "cat_order = ['Room air','Nasal canula', 'NRM','CPAP-BPAP','HiFlow', 'Intubation', 'Non-survival']\n",
    "palette_order = ['#4178BC','#ABB2B9','#D6EAF8','#ABEBC6','#F6DDCC','#D7BDE2','#E8384F']"
   ]
  },
  {
   "cell_type": "code",
   "execution_count": 27,
   "metadata": {},
   "outputs": [],
   "source": [
    "# Trajectory\n",
    "ecf.lineplot_ec50_category_trajectory(df_var_ox_win5, \n",
    "                                      outdir + targetVar + '/oxygenation_win5/'+ targetVar + '_oxygenation_lineplot_trajectory_oxygen_win5_mean.pdf', \\\n",
    "                                      '', '', targetVar, 'mean', cat_order, palette_order,0,0)\n",
    "ecf.lineplot_ec50_category_trajectory(df_var_ox_win5, \n",
    "                                      outdir + targetVar + '/oxygenation_win5/'+ targetVar + '_oxygenation_lineplot_trajectory_oxygen_win5_median.pdf', \\\n",
    "                                      '', '', targetVar, 'median', cat_order, palette_order,0,0)"
   ]
  },
  {
   "cell_type": "code",
   "execution_count": 28,
   "metadata": {},
   "outputs": [],
   "source": [
    "# Trajectory\n",
    "ecf.lineplot_ec50_category_trajectory(df_var_ox_win5, \n",
    "                                      outdir + targetVar + '/oxygenation_win5/'+ targetVar + '_oxygenation_lineplot_trajectory_oxygen_win5_mean_closedUP.pdf', \\\n",
    "                                      30, '', targetVar, 'mean', cat_order, palette_order,0,0)"
   ]
  },
  {
   "cell_type": "code",
   "execution_count": 29,
   "metadata": {},
   "outputs": [],
   "source": [
    "# boxplot_day_by_day\n",
    "day_st = set(df_var_ox_win5['Day'].tolist())\n",
    "for day in day_st:\n",
    "    ecf.plot_ec50_category_boxplot(day, df_var_ox_win5, outdir + targetVar + '/oxygenation_win5/oxygen_supp_boxplot_win5', \n",
    "                                   'oxygen_suppy', cat_order, 0, 6, targetVar, palette_order)"
   ]
  },
  {
   "cell_type": "code",
   "execution_count": 30,
   "metadata": {},
   "outputs": [],
   "source": [
    "cat_order_noRoom = ['Nasal canula', 'NRM','HiFlow', 'Intubation', 'Non-survival']\n",
    "palette_order_noRoom = ['#ABB2B9','#D6EAF8','#F6DDCC','#D7BDE2','#E8384F']\n",
    "for day in day_st:\n",
    "    ecf.plot_ec50_category_boxplot(day, df_var_ox_win5, outdir + targetVar + '/oxygenation_win5/oxygen_supp_boxplot_win5_noRoom', \n",
    "                                   'oxygen_suppy', cat_order_noRoom, 0, 6, targetVar, palette_order_noRoom)"
   ]
  },
  {
   "cell_type": "code",
   "execution_count": 31,
   "metadata": {},
   "outputs": [],
   "source": [
    "# All against all statistical comparison with mann-whitey\n",
    "for day in day_st:\n",
    "    ecf.all_against_all_pairwise_mann_whitney(df_var_ox_win5, day,  outdir + targetVar + '/oxygenation_win5',\n",
    "                                              '/' + targetVar + '_oxygenation_pairw_stats_win5' + '.txt', \\\n",
    "                                              cat_order)"
   ]
  },
  {
   "cell_type": "code",
   "execution_count": 32,
   "metadata": {},
   "outputs": [],
   "source": [
    "# Correct P-value\n",
    "correct = CORRECTPVAL(outdir + targetVar + '/oxygenation_win5/' + targetVar + '_oxygenation_pairw_stats_win5' + '.txt')\n",
    "correct.readfile()\n",
    "correct.correctpval_byday(0.05)\n",
    "correct.save_correction()"
   ]
  },
  {
   "cell_type": "markdown",
   "metadata": {},
   "source": [
    "### Plotting severity using window5¶"
   ]
  },
  {
   "cell_type": "code",
   "execution_count": 33,
   "metadata": {},
   "outputs": [],
   "source": [
    "cat_order = ['Room_air', 'Mild', 'Severe', 'Non-survival']\n",
    "palette_order = ['#4178BC','#37A862','#D68910','#E8384F']"
   ]
  },
  {
   "cell_type": "code",
   "execution_count": 34,
   "metadata": {},
   "outputs": [],
   "source": [
    "# Trajectories\n",
    "ecf.lineplot_ec50_category_trajectory(df_var_ox2_win5, \\\n",
    "                                      outdir + targetVar + '/severity_win5/' + targetVar + '_lineplot_severity_5cat_win5_mean.pdf', \n",
    "                                      '', '', targetVar, 'mean', cat_order, palette_order,0,0)\n",
    "ecf.lineplot_ec50_category_trajectory(df_var_ox2_win5, \\\n",
    "                                      outdir + targetVar + '/severity_win5/' + targetVar + '_lineplot_severity_5cat_win5_median.pdf',\n",
    "                                      '', '', targetVar, 'median', cat_order, palette_order,0,0)"
   ]
  },
  {
   "cell_type": "code",
   "execution_count": 35,
   "metadata": {},
   "outputs": [],
   "source": [
    "ecf.lineplot_ec50_category_trajectory(df_var_ox2_win5, \\\n",
    "                                      outdir + targetVar + '/severity_win5/' + targetVar + '_lineplot_severity_5cat_win5_mean_closedup.pdf', \n",
    "                                      30, 6, targetVar, 'mean', cat_order, palette_order, 0, 0)\n",
    "ecf.lineplot_ec50_category_trajectory(df_var_ox2_win5, \\\n",
    "                                      outdir + targetVar + '/severity_win5/' + targetVar + '_lineplot_severity_5cat_win5_median_closedup.pdf',\n",
    "                                      30, 6, targetVar, 'median', cat_order, palette_order, 0, 0)"
   ]
  },
  {
   "cell_type": "code",
   "execution_count": 36,
   "metadata": {},
   "outputs": [],
   "source": [
    "# boxplot_day_by_day\n",
    "day_st = set(df_var_ox2_win5['Day'].tolist())\n",
    "for day in day_st:\n",
    "    ecf.plot_ec50_category_boxplot(day, df_var_ox2_win5, \\\n",
    "                                   outdir + targetVar + '/severity_win5/severity_5cat_boxplot_win5', \n",
    "                                   'oxygen_suppy', cat_order, 0, 6, targetVar, palette_order)"
   ]
  },
  {
   "cell_type": "code",
   "execution_count": 37,
   "metadata": {},
   "outputs": [],
   "source": [
    "# All against all statistical comparison with mann-whitney\n",
    "for day in day_st:\n",
    "    ecf.all_against_all_pairwise_mann_whitney(df_var_ox2_win5, day, outdir + targetVar + '/severity_win5/',\n",
    "                                              targetVar + '_severity_5cat_pairw_stats_win5' + '.txt', cat_order)"
   ]
  },
  {
   "cell_type": "code",
   "execution_count": 38,
   "metadata": {},
   "outputs": [],
   "source": [
    "# Correct P-value\n",
    "correct = CORRECTPVAL(outdir + targetVar + '/severity_win5/' + targetVar + '_severity_5cat_pairw_stats_win5' + '.txt')\n",
    "correct.readfile()\n",
    "correct.correctpval_byday(0.05)\n",
    "correct.save_correction()"
   ]
  },
  {
   "cell_type": "markdown",
   "metadata": {},
   "source": [
    "### Plotting ethnicity using window5¶"
   ]
  },
  {
   "cell_type": "code",
   "execution_count": 39,
   "metadata": {},
   "outputs": [],
   "source": [
    "cat_order = ['Hispanic', 'Non-hispanic', 'Unknown']\n",
    "palette_order = ['#4178BC','#37A862','#D68910']"
   ]
  },
  {
   "cell_type": "code",
   "execution_count": 40,
   "metadata": {},
   "outputs": [],
   "source": [
    "# Trajectories\n",
    "ecf.lineplot_ec50_category_trajectory(df_var_etnic_win5, \\\n",
    "                                      outdir + targetVar + '/ethnicity_win5/' + targetVar + '_lineplot_ethnicity_3cat_win5_mean.pdf', \n",
    "                                      '', '', targetVar, 'mean', cat_order, palette_order, '', '')\n",
    "ecf.lineplot_ec50_category_trajectory(df_var_etnic_win5, \\\n",
    "                                      outdir + targetVar + '/ethnicity_win5/' + targetVar + '_lineplot_ethnicity_3cat_win5_median.pdf',\n",
    "                                      '', '', targetVar, 'median', cat_order, palette_order, '', '')"
   ]
  },
  {
   "cell_type": "code",
   "execution_count": 41,
   "metadata": {},
   "outputs": [],
   "source": [
    "xmin, xmax, ymin, ymax = 0, 30, 2, 5\n",
    "ecf.lineplot_ec50_category_trajectory(df_var_etnic_win5, \\\n",
    "                                      outdir + targetVar + '/ethnicity_win5/' + targetVar + '_lineplot_ethnicity_3cat_win5_mean_closedup.pdf', \\\n",
    "                                      xmax, ymax, targetVar, 'mean', cat_order, palette_order,xmin,ymin)\n",
    "ecf.lineplot_ec50_category_trajectory(df_var_etnic_win5, \\\n",
    "                                      outdir + targetVar + '/ethnicity_win5/' + targetVar + '_lineplot_ethnicity_3cat_win5_median_closedup.pdf',\\\n",
    "                                      xmax, ymax, targetVar, 'median', cat_order, palette_order,ymin,ymin)"
   ]
  },
  {
   "cell_type": "code",
   "execution_count": 42,
   "metadata": {},
   "outputs": [],
   "source": [
    "# boxplot_day_by_day\n",
    "day_st = set(df_var_etnic_win5['Day'].tolist())\n",
    "for day in day_st:\n",
    "    ecf.plot_ec50_category_boxplot(day, df_var_etnic_win5, \\\n",
    "                                   outdir + targetVar + '/ethnicity_win5/ethinicity_boxplot_win5', \n",
    "                                   'ethnicity', cat_order, 0, 0, targetVar, palette_order)"
   ]
  },
  {
   "cell_type": "code",
   "execution_count": 43,
   "metadata": {},
   "outputs": [],
   "source": [
    "# All against all statistical comparison with mann-whitney\n",
    "for day in day_st:\n",
    "    ecf.all_against_all_pairwise_mann_whitney(df_var_etnic_win5, day, outdir + targetVar + '/ethnicity_win5/',\n",
    "                                              targetVar + '_ethnicity_pairw_stats_win5' + '.txt', cat_order)"
   ]
  },
  {
   "cell_type": "code",
   "execution_count": 44,
   "metadata": {},
   "outputs": [],
   "source": [
    "# Correct P-value\n",
    "correct = CORRECTPVAL(outdir + targetVar + '/ethnicity_win5/' + targetVar + '_ethnicity_pairw_stats_win5' + '.txt')\n",
    "correct.readfile()\n",
    "correct.correctpval_byday(0.05)\n",
    "correct.save_correction()"
   ]
  },
  {
   "cell_type": "markdown",
   "metadata": {},
   "source": [
    "### Plotting race using window5¶"
   ]
  },
  {
   "cell_type": "code",
   "execution_count": 45,
   "metadata": {},
   "outputs": [],
   "source": [
    "cat_order = ['Black', 'White', 'Other']\n",
    "palette_order = ['#454545','#D68910','#1E8449']"
   ]
  },
  {
   "cell_type": "code",
   "execution_count": 46,
   "metadata": {},
   "outputs": [],
   "source": [
    "# Trajectories\n",
    "ecf.lineplot_ec50_category_trajectory(df_var_race_win5, \\\n",
    "                                      outdir + targetVar + '/race_win5/' + targetVar + '_lineplot_race_win5_mean.pdf', \n",
    "                                      '', '', targetVar, 'mean', cat_order, palette_order, '', '')\n",
    "ecf.lineplot_ec50_category_trajectory(df_var_race_win5, \\\n",
    "                                      outdir + targetVar + '/race_win5/' + targetVar + '_lineplot_race_win5_median.pdf',\n",
    "                                      '', '', targetVar, 'median', cat_order, palette_order, '', '')"
   ]
  },
  {
   "cell_type": "code",
   "execution_count": 47,
   "metadata": {},
   "outputs": [],
   "source": [
    "xmin, xmax, ymin, ymax = 0, 30, 2, 5\n",
    "ecf.lineplot_ec50_category_trajectory(df_var_race_win5, \\\n",
    "                                      outdir + targetVar + '/race_win5/' + targetVar + '_lineplot_race_win5_mean_closedup.pdf', \\\n",
    "                                      xmax, ymax, targetVar, 'mean', cat_order, palette_order,xmin,ymin)\n",
    "ecf.lineplot_ec50_category_trajectory(df_var_race_win5, \\\n",
    "                                      outdir + targetVar + '/race_win5/' + targetVar + '_lineplot_race_win5_median_closedup.pdf',\\\n",
    "                                      xmax, ymax, targetVar, 'median', cat_order, palette_order,ymin,ymin)"
   ]
  },
  {
   "cell_type": "code",
   "execution_count": 48,
   "metadata": {},
   "outputs": [],
   "source": [
    "# boxplot_day_by_day\n",
    "day_st = set(df_var_race_win5['Day'].tolist())\n",
    "for day in day_st:\n",
    "    ecf.plot_ec50_category_boxplot(day, df_var_race_win5, \\\n",
    "                                   outdir + targetVar + '/race_win5/ethinicity_boxplot_win5', \n",
    "                                   'race', cat_order, 0, 0, targetVar, palette_order)"
   ]
  },
  {
   "cell_type": "code",
   "execution_count": 49,
   "metadata": {},
   "outputs": [],
   "source": [
    "# All against all statistical comparison with mann-whitney\n",
    "for day in day_st:\n",
    "    ecf.all_against_all_pairwise_mann_whitney(df_var_race_win5, day, outdir + targetVar + '/race_win5/',\n",
    "                                              targetVar + '_race_pairw_stats_win5' + '.txt', cat_order)"
   ]
  },
  {
   "cell_type": "code",
   "execution_count": 50,
   "metadata": {},
   "outputs": [],
   "source": [
    "# Correct P-value\n",
    "correct = CORRECTPVAL(outdir + targetVar + '/race_win5/' + targetVar + '_race_pairw_stats_win5' + '.txt')\n",
    "correct.readfile()\n",
    "correct.correctpval_byday(0.05)\n",
    "correct.save_correction()"
   ]
  },
  {
   "cell_type": "markdown",
   "metadata": {},
   "source": [
    "### The end"
   ]
  },
  {
   "cell_type": "code",
   "execution_count": 51,
   "metadata": {},
   "outputs": [
    {
     "name": "stdout",
     "output_type": "stream",
     "text": [
      "Finito\n"
     ]
    }
   ],
   "source": [
    "print('Finito')"
   ]
  },
  {
   "cell_type": "code",
   "execution_count": null,
   "metadata": {},
   "outputs": [],
   "source": []
  },
  {
   "cell_type": "code",
   "execution_count": null,
   "metadata": {},
   "outputs": [],
   "source": []
  }
 ],
 "metadata": {
  "kernelspec": {
   "display_name": "Python 3",
   "language": "python",
   "name": "python3"
  },
  "language_info": {
   "codemirror_mode": {
    "name": "ipython",
    "version": 3
   },
   "file_extension": ".py",
   "mimetype": "text/x-python",
   "name": "python",
   "nbconvert_exporter": "python",
   "pygments_lexer": "ipython3",
   "version": "3.7.6"
  }
 },
 "nbformat": 4,
 "nbformat_minor": 4
}
