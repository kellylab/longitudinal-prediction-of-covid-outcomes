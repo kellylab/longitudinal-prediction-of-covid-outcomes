{
 "cells": [
  {
   "cell_type": "code",
   "execution_count": 1,
   "metadata": {},
   "outputs": [],
   "source": [
    "import pandas as pd\n",
    "import numpy as np\n",
    "from IPython.display import display\n",
    "import matplotlib.pyplot as plt\n",
    "import seaborn as sns\n",
    "import os\n",
    "import shutil\n",
    "from scipy import stats\n",
    "from statsmodels.stats.multitest import multipletests\n",
    "from datetime import datetime"
   ]
  },
  {
   "cell_type": "markdown",
   "metadata": {},
   "source": [
    "### Initialize"
   ]
  },
  {
   "cell_type": "code",
   "execution_count": 2,
   "metadata": {},
   "outputs": [],
   "source": [
    "# Initialize directory if exists\n",
    "outdir = '../output/IgG_traj_cat'\n",
    "if os.path.isdir(outdir):\n",
    "    shutil.rmtree(outdir)\n",
    "os.mkdir(outdir)\n",
    "\n",
    "# Create object\n",
    "os.chdir('classes')\n",
    "%run longit.ipynb\n",
    "ecf = LONGIT()\n",
    "os.chdir('..')"
   ]
  },
  {
   "cell_type": "markdown",
   "metadata": {},
   "source": [
    "### Load EC50 file and process it"
   ]
  },
  {
   "cell_type": "code",
   "execution_count": 3,
   "metadata": {},
   "outputs": [
    {
     "data": {
      "text/html": [
       "<div>\n",
       "<style scoped>\n",
       "    .dataframe tbody tr th:only-of-type {\n",
       "        vertical-align: middle;\n",
       "    }\n",
       "\n",
       "    .dataframe tbody tr th {\n",
       "        vertical-align: top;\n",
       "    }\n",
       "\n",
       "    .dataframe thead th {\n",
       "        text-align: right;\n",
       "    }\n",
       "</style>\n",
       "<table border=\"1\" class=\"dataframe\">\n",
       "  <thead>\n",
       "    <tr style=\"text-align: right;\">\n",
       "      <th></th>\n",
       "      <th>Pt#</th>\n",
       "      <th>run1_EC50</th>\n",
       "      <th>run2_EC50</th>\n",
       "      <th>sampleID</th>\n",
       "      <th>sampleID_onset</th>\n",
       "    </tr>\n",
       "  </thead>\n",
       "  <tbody>\n",
       "    <tr>\n",
       "      <th>111</th>\n",
       "      <td>24.0</td>\n",
       "      <td>NaN</td>\n",
       "      <td>NaN</td>\n",
       "      <td>24-40</td>\n",
       "      <td>24-43</td>\n",
       "    </tr>\n",
       "    <tr>\n",
       "      <th>1057</th>\n",
       "      <td>147.0</td>\n",
       "      <td>NaN</td>\n",
       "      <td>NaN</td>\n",
       "      <td>1057</td>\n",
       "      <td>NaN</td>\n",
       "    </tr>\n",
       "  </tbody>\n",
       "</table>\n",
       "</div>"
      ],
      "text/plain": [
       "        Pt#  run1_EC50  run2_EC50 sampleID sampleID_onset\n",
       "111    24.0        NaN        NaN    24-40          24-43\n",
       "1057  147.0        NaN        NaN     1057            NaN"
      ]
     },
     "metadata": {},
     "output_type": "display_data"
    }
   ],
   "source": [
    "ec50_file = '../input/ec50_values.xlsx'\n",
    "ecf.loadfiletodf(ec50_file)\n",
    "\n",
    "# Remove useless columns\n",
    "col_2_del =['Notes','run1_description','run1_date','run1_1/EC50','run2_date','run2_description',\n",
    "            'run2_1/EC50','(run1_1/EC50)/(run2_1/EC50)','Sample#']\n",
    "df_1 = ecf.df.drop(columns=col_2_del)\n",
    "df_1 = df_1.rename(columns={\"sampleID_onset_080620\": \"sampleID_onset\"})\n",
    "\n",
    "# Remove samples with missing elements\n",
    "df_missing, df_2 = ecf.samples_with_missing_elements(df_1)\n",
    "display(df_missing)\n",
    "\n",
    "# Reformat onset\n",
    "df_3 = ecf.reformat_onset(df_2)\n",
    "\n",
    "# Remove samples where EC50 dissagree by more than x\n",
    "thresh = 3\n",
    "df4_incoherent, df4 = ecf.incoherent_ec50(df_3, thresh)\n",
    "\n",
    "# Transform data for plotting\n",
    "df5 = ecf.transform_df_for_plotting(df4, 'Pt#', 'sampleID_onset', 'average_EC50')\n",
    "df5.to_excel(outdir + '/' + 'ec50_df.xlsx' )\n",
    "df5_win = ecf.average_EC50_slidingWindow(df5, 2)\n",
    "df5_winlog = -np.log10(df5_win)\n",
    "df5_winlog.to_excel(outdir + '/' + 'EC50_df_window5_minuslog10.xlsx')"
   ]
  },
  {
   "cell_type": "code",
   "execution_count": 4,
   "metadata": {},
   "outputs": [
    {
     "name": "stdout",
     "output_type": "stream",
     "text": [
      "Removing patient: \t10.0\n",
      "Removing patient: \t11.0\n",
      "Removing patient: \t20.0\n",
      "Removing patient: \t67.0\n",
      "Removing patient: \t122.0\n",
      "Removing patient: \t130.0\n",
      "Removing patient: \t131.0\n",
      "Removing patient: \t132.0\n",
      "Removing patient: \t134.0\n",
      "Removing patient: \t142.0\n",
      "Removing patient: \t143.0\n",
      "Removing patient: \t148.0\n",
      "Removing patient: \t150.0\n",
      "Removing patient: \t157.0\n",
      "Removing patient: \t172.0\n",
      "Removing patient: \t192.0\n",
      "Removing patient: \t195.0\n",
      "rows: 130\tcolumns:54\n"
     ]
    }
   ],
   "source": [
    "# Remove patients with less than 7 days worth of readouts (4 readouts)\n",
    "f = open(outdir + '/' + 'patients_with_poor_coverage.txt', 'w')\n",
    "df6 = pd.DataFrame()\n",
    "for patient, row in df5.iterrows():\n",
    "    firstday = 1000\n",
    "    lastday = 0\n",
    "    for day, val in row.iteritems():\n",
    "#         print(patient, '\\t', day, '\\t', val)\n",
    "        if np.isnan(val):\n",
    "            continue\n",
    "        if int(day) < firstday:\n",
    "            firstday = day\n",
    "        if int(day) > lastday:\n",
    "            lastday = day\n",
    "    len_stay = lastday - firstday + 1\n",
    "    if len_stay < 7:\n",
    "        print('Removing patient: ', patient, sep='\\t')\n",
    "        print(patient, file=f)\n",
    "        continue\n",
    "#     print(patient, firstday, lastday, len_stay)\n",
    "#     display(df5.loc[[patient]])\n",
    "    df6 = df6.append(df5.loc[[patient]], ignore_index=False)\n",
    "print('rows: {}\\tcolumns:{}'.format(df6.shape[0], df6.shape[1]))\n",
    "df6.to_excel(outdir + '/' + 'ec50_df_clean.xlsx')\n",
    "# display(df6)\n",
    "f.close()"
   ]
  },
  {
   "cell_type": "code",
   "execution_count": 5,
   "metadata": {},
   "outputs": [],
   "source": [
    "# Use a sliding window to average EC50 values\n",
    "df6_win = ecf.average_EC50_slidingWindow(df6, 2)\n",
    "\n",
    "# Log transform\n",
    "df7 = -np.log10(df6)\n",
    "df7_win = -np.log10(df6_win)\n",
    "df6.to_excel(outdir + '/' + 'ec50_df_clean_average_log.xlsx')"
   ]
  },
  {
   "cell_type": "markdown",
   "metadata": {},
   "source": [
    "### Histogram "
   ]
  },
  {
   "cell_type": "code",
   "execution_count": 6,
   "metadata": {},
   "outputs": [
    {
     "data": {
      "image/png": "[encoded data removed]",
      "text/plain": [
       "<Figure size 1080x720 with 1 Axes>"
      ]
     },
     "metadata": {
      "needs_background": "light"
     },
     "output_type": "display_data"
    }
   ],
   "source": [
    "#get values into a list for histogram\n",
    "ec50_ls = np.array(df7_win.values.tolist())\n",
    "ec50_ls = ec50_ls[np.logical_not(np.isnan(ec50_ls))]\n",
    "\n",
    "plt.figure(figsize=(15,10))\n",
    "ar = plt.hist(ec50_ls, bins=300)\n",
    "plt.xlim(0,6)\n",
    "plt.savefig(outdir + '/' + 'ec50_histogram.pdf', dpi=300)\n",
    "# plt.show"
   ]
  },
  {
   "cell_type": "markdown",
   "metadata": {},
   "source": [
    "### Use percentiles as thresholds to split responses into low, medium and high"
   ]
  },
  {
   "cell_type": "code",
   "execution_count": 7,
   "metadata": {},
   "outputs": [
    {
     "name": "stdout",
     "output_type": "stream",
     "text": [
      "2.9107728093338596\t4.467627866432123\n"
     ]
    }
   ],
   "source": [
    "f = open(outdir + '/' + 'percentiles.txt', 'w')\n",
    "perc10 = np.percentile(ec50_ls, 10)\n",
    "perc25 = np.percentile(ec50_ls, 25)\n",
    "perc50 = np.percentile(ec50_ls, 50)\n",
    "perc75 = np.percentile(ec50_ls, 75)\n",
    "perc90 = np.percentile(ec50_ls, 90)\n",
    "print(perc25, perc75, sep='\\t')\n",
    "print('Percentile 10:', perc10, sep='\\t', file=f)\n",
    "print('Percentile 25:', perc25, sep='\\t', file=f)\n",
    "print('Percentile 50:', perc50, sep='\\t', file=f)\n",
    "print('Percentile 75:', perc75, sep='\\t', file=f)\n",
    "print('Percentile 90:', perc90, sep='\\t', file=f)\n",
    "f.close()"
   ]
  },
  {
   "cell_type": "markdown",
   "metadata": {},
   "source": [
    "### Split responses"
   ]
  },
  {
   "cell_type": "code",
   "execution_count": 8,
   "metadata": {},
   "outputs": [
    {
     "name": "stdout",
     "output_type": "stream",
     "text": [
      "low response\t15\n",
      "low-medium response\t2\n",
      "low-high response\t2\n",
      "medium response\t59\n",
      "medium-high response\t17\n",
      "high response\t35\n"
     ]
    }
   ],
   "source": [
    "f = open(outdir + '/' + 'IgG_response.txt', 'w')\n",
    "sustain_thresh = 5 #These are number of days\n",
    "interf_thresh = 2 #These are number of days\n",
    "low_res = []\n",
    "med_res = []\n",
    "high_res = []\n",
    "med_high_res = []\n",
    "low_med_res = []\n",
    "low_high_res = []\n",
    "\n",
    "for patient, row in df7_win.iterrows():\n",
    "    print(patient, file=f)\n",
    "    low_sustain = 0\n",
    "    is_low = False\n",
    "    med_sustain = 0\n",
    "    is_med = False\n",
    "    high_sustain = 0\n",
    "    is_high = False\n",
    "    prev_val = np.nan\n",
    "    for day, val in row.iteritems():\n",
    "        if np.isnan(val):\n",
    "            continue\n",
    "        if val > perc75:\n",
    "            med_sustain = 0\n",
    "            low_sustain = 0\n",
    "            if (np.isnan(prev_val)) or (prev_val < perc75):\n",
    "                high_sustain = 1\n",
    "            else:\n",
    "                high_sustain += 1\n",
    "#             print('\\thigh', val, high_sustain, sep='\\t')\n",
    "            if high_sustain >= sustain_thresh:\n",
    "                is_high = True\n",
    "#                 break\n",
    "        elif val > perc25 and val <= perc75:\n",
    "            high_sustain = 0\n",
    "            low_sustain = 0\n",
    "            if (np.isnan(prev_val)) or (prev_val < perc25):\n",
    "                med_sustain = 1\n",
    "            else:\n",
    "                med_sustain += 1\n",
    "            if med_sustain >= sustain_thresh:\n",
    "                is_med = True\n",
    "        else:\n",
    "            low_sustain += 1\n",
    "            high_sustain = 0\n",
    "            med_sustain = 0\n",
    "            if low_sustain >= sustain_thresh:\n",
    "                is_low = True\n",
    "\n",
    "        print('\\t',day, val, low_sustain, med_sustain, high_sustain, is_low, is_med, is_high, sep= '\\t', file=f)\n",
    "        prev_val = val\n",
    "    if is_high == True:\n",
    "        if med_sustain < interf_thresh:\n",
    "            high_res.append(patient)\n",
    "            print('\\t','high', file=f)\n",
    "        else:\n",
    "            med_high_res.append(patient)\n",
    "            print('\\t','medium-high', file=f)\n",
    "    elif is_med == True:\n",
    "        if high_sustain < interf_thresh:\n",
    "            med_res.append(patient)\n",
    "            print('\\t','medium', file=f)\n",
    "        else:\n",
    "            med_high_res.append(patient)\n",
    "            print('\\t','medium-high', file=f)\n",
    "    else:\n",
    "        if med_sustain < interf_thresh and high_sustain < interf_thresh:\n",
    "            low_res.append(patient)\n",
    "            print('\\t','low', file=f)\n",
    "        else:\n",
    "            if med_sustain >= interf_thresh:\n",
    "                low_med_res.append(patient)\n",
    "                print('\\t','low-medium', file=f)\n",
    "            else:\n",
    "                low_high_res.append(patient)\n",
    "                print('\\t','low-high', file=f)                \n",
    "        \n",
    "f.close()\n",
    "f = open(outdir + '/' + 'IgG_response_categories.txt', 'w')\n",
    "print('low response', len(low_res), sep='\\t')\n",
    "[print('Low_response',item, file=f) for item in low_res]\n",
    "print('low-medium response', len(low_med_res), sep='\\t')\n",
    "[print('Low_medium_response',item, file=f) for item in low_med_res]\n",
    "print('low-high response', len(low_high_res), sep='\\t')\n",
    "[print('Low_high_response',item, file=f) for item in low_high_res]\n",
    "print('medium response', len(med_res), sep='\\t')\n",
    "[print('Medium_response',item, file=f) for item in med_res]\n",
    "print('medium-high response', len(med_high_res), sep='\\t')\n",
    "[print('Medium_high_response',item, file=f) for item in med_high_res]\n",
    "print('high response', len(high_res), sep='\\t')\n",
    "[print('High_response',item, file=f) for item in high_res]\n",
    "f.close()"
   ]
  },
  {
   "cell_type": "markdown",
   "metadata": {},
   "source": [
    "### Parse categorized responses into separate dataframes for plotting "
   ]
  },
  {
   "cell_type": "code",
   "execution_count": 9,
   "metadata": {},
   "outputs": [],
   "source": [
    "df7_win_low = pd.DataFrame()\n",
    "df7_win_med = pd.DataFrame()\n",
    "df7_win_high = pd.DataFrame()\n",
    "df7_win_low_med = pd.DataFrame()\n",
    "df7_win_low_high = pd.DataFrame()\n",
    "df7_win_med_high = pd.DataFrame()\n",
    "for patient in low_res:\n",
    "    df7_win_low = df7_win_low.append(df7_win.loc[[patient]], ignore_index=False)\n",
    "for patient in med_res:\n",
    "    df7_win_med = df7_win_med.append(df7_win.loc[[patient]], ignore_index=False)    \n",
    "for patient in high_res:\n",
    "    df7_win_high = df7_win_high.append(df7_win.loc[[patient]], ignore_index=False)    \n",
    "for patient in low_med_res:\n",
    "    df7_win_low_med = df7_win_low_med.append(df7_win.loc[[patient]], ignore_index=False)    \n",
    "for patient in low_high_res:\n",
    "    df7_win_low_high = df7_win_low_high.append(df7_win.loc[[patient]], ignore_index=False)   \n",
    "for patient in med_high_res:\n",
    "    df7_win_med_high = df7_win_med_high.append(df7_win.loc[[patient]], ignore_index=False)   "
   ]
  },
  {
   "cell_type": "markdown",
   "metadata": {},
   "source": [
    "### Plot EC50 trajectories by category"
   ]
  },
  {
   "cell_type": "code",
   "execution_count": 10,
   "metadata": {},
   "outputs": [],
   "source": [
    "def plot_ec50(df, outfile, xmax, ymax, col):\n",
    "    label_font = {'fontname':'Helvetica Neue', 'fontsize':16}\n",
    "    axis_font = {'fontname':'Helvetica Neue', 'fontsize':16}\n",
    "    legend_font = {'fontname':'Helvetica Neue', 'fontsize':18}\n",
    "    f,ax = plt.subplots(figsize=(15,10))\n",
    "    col_ar = np.array(df.columns)\n",
    "    for patient, row in df.iterrows():\n",
    "        val_ar = np.asarray(row.values.tolist())\n",
    "        col_clean = col_ar[np.isfinite(val_ar)]\n",
    "        val_clean = val_ar[np.isfinite(val_ar)]\n",
    "        plt.plot(col_clean, val_clean,'o-', label=patient, color=col)\n",
    "        plt.ylim(0, ymax)\n",
    "        plt.xlim(0, xmax)\n",
    "\n",
    "    label_font = {'fontname':'Helvetica Neue', 'fontsize':16}\n",
    "    axis_font = {'fontname':'Helvetica Neue', 'fontsize':16}\n",
    "    legend_font = {'fontname':'Helvetica Neue', 'fontsize':18}\n",
    "    title_font = {'fontname':'Helvetica Neue', 'fontsize':20}\n",
    "    ax.spines['right'].set_visible(False)\n",
    "    ax.spines['top'].set_visible(False)\n",
    "    ax.spines['bottom'].set_linewidth(1)\n",
    "    ax.spines['left'].set_linewidth(1) \n",
    "    plt.ylabel('-log10(EC50)')\n",
    "    plt.xlabel('Days after onset') \n",
    "    plt.xlim(0,61)\n",
    "    plt.grid(b=False, which='both', axis='y')\n",
    "    plt.savefig(outfile, dpi=300, transparent=True)\n",
    "    plt.show"
   ]
  },
  {
   "cell_type": "code",
   "execution_count": 11,
   "metadata": {},
   "outputs": [],
   "source": [
    "%%capture\n",
    "plot_ec50(df7_win_low, outdir + '/' + 'low_response.pdf', 90, 6, '#626567')\n",
    "plot_ec50(df7_win_low_med, outdir + '/' + 'low_med_response.pdf', 90, 6, '#9B59B6')\n",
    "plot_ec50(df7_win_low_high, outdir + '/' + 'low_high_response.pdf', 90, 6, '#9B59B6')\n",
    "plot_ec50(df7_win_med, outdir + '/' + 'medium_response.pdf', 90, 6, '#5499C7')\n",
    "plot_ec50(df7_win_med_high, outdir + '/' + 'med_high_response.pdf', 90, 6, '#D4AC0D')\n",
    "plot_ec50(df7_win_high, outdir + '/' + 'high_response.pdf', 90, 6, '#CD6155')"
   ]
  },
  {
   "cell_type": "code",
   "execution_count": null,
   "metadata": {},
   "outputs": [],
   "source": []
  }
 ],
 "metadata": {
  "kernelspec": {
   "display_name": "Python 3",
   "language": "python",
   "name": "python3"
  },
  "language_info": {
   "codemirror_mode": {
    "name": "ipython",
    "version": 3
   },
   "file_extension": ".py",
   "mimetype": "text/x-python",
   "name": "python",
   "nbconvert_exporter": "python",
   "pygments_lexer": "ipython3",
   "version": "3.7.6"
  }
 },
 "nbformat": 4,
 "nbformat_minor": 4
}
