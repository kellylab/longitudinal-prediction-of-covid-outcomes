{
 "cells": [
  {
   "cell_type": "code",
   "execution_count": 1,
   "metadata": {},
   "outputs": [],
   "source": [
    "import pandas as pd\n",
    "import numpy as np\n",
    "import seaborn as sns\n",
    "import os\n",
    "import shutil"
   ]
  },
  {
   "cell_type": "markdown",
   "metadata": {},
   "source": [
    "### Input files "
   ]
  },
  {
   "cell_type": "code",
   "execution_count": 2,
   "metadata": {},
   "outputs": [],
   "source": [
    "clinical_file = '../input/clinical_data.xlsx'\n",
    "survival_file = '../input/severity_category.xlsx'\n",
    "oxygen_file = '../input/oxygensuppl_category.xlsx'\n",
    "ethinicity_file = '../input/ethnicity_category.xlsx'\n",
    "race_file = '../input/race_category.xlsx'"
   ]
  },
  {
   "cell_type": "markdown",
   "metadata": {},
   "source": [
    "### Objects"
   ]
  },
  {
   "cell_type": "code",
   "execution_count": 3,
   "metadata": {},
   "outputs": [],
   "source": [
    "os.chdir('classes')\n",
    "%run longit.ipynb\n",
    "ecf = LONGIT()\n",
    "%run categories.ipynb\n",
    "cat = CATEGORY()\n",
    "etnic = ETHNICITY()\n",
    "race = RACE()\n",
    "%run correct_pval.ipynb\n",
    "os.chdir('..')"
   ]
  },
  {
   "cell_type": "markdown",
   "metadata": {},
   "source": [
    "### Variable of interest upon which perform all analyses "
   ]
  },
  {
   "cell_type": "code",
   "execution_count": 4,
   "metadata": {},
   "outputs": [],
   "source": [
    "outdir = '../output/'\n",
    "targetVar = 'CRP' #WBC, neutrophil, lymphocyte, eosinophil, platelet, BUN, CRP\n",
    "surv_cat_order = ['Survival','Non-survival']\n",
    "surv_palet_order = ['#98FAF3','#E8384F']\n",
    "oxyg_cat_order = ['Room air','Nasal canula', 'NRM','CPAP-BPAP','HiFlow', 'Intubation', 'Non-survival']\n",
    "oxyg_palet_order = ['#4178BC','#ABB2B9','#D6EAF8','#ABEBC6','#F6DDCC','#D7BDE2','#E8384F']\n",
    "sever_cat_order = ['Room_air', 'Mild', 'Severe', 'Non-survival']\n",
    "sever_palet_order = ['#4178BC','#37A862','#D68910','#E8384F']\n",
    "etnic_cat_order = ['Hispanic', 'Non-hispanic', 'Unknown']\n",
    "etnic_palette_order = ['#4178BC','#37A862','#D68910']\n",
    "race_cat_order = ['Black', 'White', 'Other']\n",
    "race_palette_order = ['#454545','#D68910','#1E8449']"
   ]
  },
  {
   "cell_type": "markdown",
   "metadata": {},
   "source": [
    "### Initializing directory "
   ]
  },
  {
   "cell_type": "code",
   "execution_count": 5,
   "metadata": {},
   "outputs": [],
   "source": [
    "# Initialize directory if exists\n",
    "if os.path.isdir(outdir + targetVar):\n",
    "    shutil.rmtree(outdir + targetVar)\n",
    "os.mkdir(outdir + targetVar)\n",
    "\n",
    "if not os.path.isdir(outdir + targetVar + '/overview'):\n",
    "    os.mkdir(outdir + targetVar + '/overview')\n",
    "if not os.path.isdir(outdir + targetVar + '/overview_win5'):\n",
    "    os.mkdir(outdir + targetVar + '/overview_win5')\n",
    "\n",
    "if not os.path.isdir(outdir + targetVar + '/survival_win5'):\n",
    "    os.mkdir(outdir + targetVar + '/survival_win5')\n",
    "\n",
    "if not os.path.isdir(outdir + targetVar + '/oxygenation_win5'):\n",
    "    os.mkdir(outdir + targetVar + '/oxygenation_win5')\n",
    "\n",
    "if not os.path.isdir(outdir + targetVar + '/severity_win5'):\n",
    "    os.mkdir(outdir + targetVar + '/severity_win5')\n",
    "# Ethnicity\n",
    "if not os.path.isdir(outdir + targetVar + '/ethnicity_win5'):\n",
    "    os.mkdir(outdir + targetVar + '/ethnicity_win5')\n",
    "# Race\n",
    "if not os.path.isdir(outdir + targetVar + '/race_win5'):\n",
    "    os.mkdir(outdir + targetVar + '/race_win5')# Severity"
   ]
  },
  {
   "cell_type": "markdown",
   "metadata": {},
   "source": [
    "### Loading the data with variables of interest into dataframe "
   ]
  },
  {
   "cell_type": "code",
   "execution_count": 6,
   "metadata": {},
   "outputs": [
    {
     "data": {
      "text/html": [
       "<div>\n",
       "<style scoped>\n",
       "    .dataframe tbody tr th:only-of-type {\n",
       "        vertical-align: middle;\n",
       "    }\n",
       "\n",
       "    .dataframe tbody tr th {\n",
       "        vertical-align: top;\n",
       "    }\n",
       "\n",
       "    .dataframe thead th {\n",
       "        text-align: right;\n",
       "    }\n",
       "</style>\n",
       "<table border=\"1\" class=\"dataframe\">\n",
       "  <thead>\n",
       "    <tr style=\"text-align: right;\">\n",
       "      <th></th>\n",
       "      <th>sampleID_onset</th>\n",
       "      <th>presentation date</th>\n",
       "      <th>WBC</th>\n",
       "      <th>platelet</th>\n",
       "      <th>neutrophil</th>\n",
       "      <th>lymphocyte</th>\n",
       "      <th>eosinophil</th>\n",
       "      <th>CRP</th>\n",
       "      <th>BUN</th>\n",
       "      <th>Pt#</th>\n",
       "      <th>sampleID</th>\n",
       "    </tr>\n",
       "  </thead>\n",
       "  <tbody>\n",
       "    <tr>\n",
       "      <th>0</th>\n",
       "      <td>7</td>\n",
       "      <td>2020-03-10</td>\n",
       "      <td>NaN</td>\n",
       "      <td>NaN</td>\n",
       "      <td>NaN</td>\n",
       "      <td>NaN</td>\n",
       "      <td>NaN</td>\n",
       "      <td>NaN</td>\n",
       "      <td>NaN</td>\n",
       "      <td>6.0</td>\n",
       "      <td>6-7</td>\n",
       "    </tr>\n",
       "    <tr>\n",
       "      <th>1</th>\n",
       "      <td>8</td>\n",
       "      <td>2020-03-10</td>\n",
       "      <td>NaN</td>\n",
       "      <td>NaN</td>\n",
       "      <td>NaN</td>\n",
       "      <td>NaN</td>\n",
       "      <td>NaN</td>\n",
       "      <td>NaN</td>\n",
       "      <td>NaN</td>\n",
       "      <td>6.0</td>\n",
       "      <td>6-8</td>\n",
       "    </tr>\n",
       "    <tr>\n",
       "      <th>2</th>\n",
       "      <td>9</td>\n",
       "      <td>2020-03-10</td>\n",
       "      <td>6.8</td>\n",
       "      <td>132.0</td>\n",
       "      <td>5.8</td>\n",
       "      <td>0.6</td>\n",
       "      <td>0.0</td>\n",
       "      <td>NaN</td>\n",
       "      <td>9.0</td>\n",
       "      <td>6.0</td>\n",
       "      <td>6-9</td>\n",
       "    </tr>\n",
       "    <tr>\n",
       "      <th>3</th>\n",
       "      <td>10</td>\n",
       "      <td>2020-03-10</td>\n",
       "      <td>7.8</td>\n",
       "      <td>131.0</td>\n",
       "      <td>6.8</td>\n",
       "      <td>0.7</td>\n",
       "      <td>0.0</td>\n",
       "      <td>NaN</td>\n",
       "      <td>10.0</td>\n",
       "      <td>6.0</td>\n",
       "      <td>6-10</td>\n",
       "    </tr>\n",
       "    <tr>\n",
       "      <th>4</th>\n",
       "      <td>11</td>\n",
       "      <td>2020-03-10</td>\n",
       "      <td>10.0</td>\n",
       "      <td>169.0</td>\n",
       "      <td>6.3</td>\n",
       "      <td>0.7</td>\n",
       "      <td>0.0</td>\n",
       "      <td>NaN</td>\n",
       "      <td>20.0</td>\n",
       "      <td>6.0</td>\n",
       "      <td>6-11</td>\n",
       "    </tr>\n",
       "  </tbody>\n",
       "</table>\n",
       "</div>"
      ],
      "text/plain": [
       "  sampleID_onset presentation date   WBC  platelet  neutrophil  lymphocyte  \\\n",
       "0              7        2020-03-10   NaN       NaN         NaN         NaN   \n",
       "1              8        2020-03-10   NaN       NaN         NaN         NaN   \n",
       "2              9        2020-03-10   6.8     132.0         5.8         0.6   \n",
       "3             10        2020-03-10   7.8     131.0         6.8         0.7   \n",
       "4             11        2020-03-10  10.0     169.0         6.3         0.7   \n",
       "\n",
       "   eosinophil  CRP   BUN  Pt# sampleID  \n",
       "0         NaN  NaN   NaN  6.0      6-7  \n",
       "1         NaN  NaN   NaN  6.0      6-8  \n",
       "2         0.0  NaN   9.0  6.0      6-9  \n",
       "3         0.0  NaN  10.0  6.0     6-10  \n",
       "4         0.0  NaN  20.0  6.0     6-11  "
      ]
     },
     "metadata": {},
     "output_type": "display_data"
    }
   ],
   "source": [
    "df0 = pd.read_excel(clinical_file)\n",
    "# Preparing the df with the same format as with EC50s\n",
    "df1 = df0.copy()\n",
    "for indx, row in df0.iterrows():\n",
    "    patient_onset = df0.at[indx,'sampleID_onset']\n",
    "    ls = patient_onset.split('-')\n",
    "    patient = int(ls[0])\n",
    "    day = ls[1]\n",
    "#     print(len(ls))\n",
    "    df1.at[indx,'Pt#'] = patient\n",
    "    df1.at[indx,'sampleID_onset'] = day\n",
    "    df1.at[indx,'sampleID'] = patient_onset\n",
    "display(df1.head())"
   ]
  },
  {
   "cell_type": "markdown",
   "metadata": {},
   "source": [
    "### Loading survival data"
   ]
  },
  {
   "cell_type": "code",
   "execution_count": 7,
   "metadata": {},
   "outputs": [],
   "source": [
    "# Survival\n",
    "# Load\n",
    "# infile = '/Users/gorkalasso/Dropbox (EinsteinMed)/coronavirus/longitudinal_MMC_cohort/update_aug/patient_category_09152020.xlsx'\n",
    "df_surv = pd.read_excel(survival_file,index_col=0,header=0)\n",
    "df_surv_gr = df_surv.groupby(['Outcome'])\n",
    "#Outcome: (0-home, 1-nursing home, 2-dead)\n",
    "#Survival groups: groups 0 & 1\n",
    "survival_indx_ar = np.concatenate([np.array(df_surv_gr.get_group('Mild').index), np.array(df_surv_gr.get_group('Severe').index)])\n",
    "nonsurvival_indx_ar = np.array(df_surv_gr.get_group('Non-survival').index)"
   ]
  },
  {
   "cell_type": "markdown",
   "metadata": {},
   "source": [
    "### Loading patient categories"
   ]
  },
  {
   "cell_type": "code",
   "execution_count": 8,
   "metadata": {},
   "outputs": [],
   "source": [
    "# Oxygen supplementation\n",
    "df_ox = cat.oxygen_supply_to_df(oxygen_file)\n",
    "\n",
    "# Ethnicity\n",
    "df_etnic = etnic.cat_to_df(ethinicity_file)\n",
    "\n",
    "# Race\n",
    "df_race = race.cat_to_df(race_file)"
   ]
  },
  {
   "cell_type": "markdown",
   "metadata": {},
   "source": [
    "### Loading data into df with right format for plotting"
   ]
  },
  {
   "cell_type": "code",
   "execution_count": 9,
   "metadata": {},
   "outputs": [],
   "source": [
    "# Dataframe for a particular variable\n",
    "df_var = ecf.transform_df_for_plotting(df1,'Pt#','sampleID_onset',targetVar)\n",
    "df_var_win5 = ecf.average_EC50_slidingWindow(df_var, 2)"
   ]
  },
  {
   "cell_type": "markdown",
   "metadata": {},
   "source": [
    "### New dataframes with survival data, oxygenation data and severity data "
   ]
  },
  {
   "cell_type": "code",
   "execution_count": 10,
   "metadata": {},
   "outputs": [],
   "source": [
    "# add survival category to new df\n",
    "df_var_surv_win5 = ecf.add_survival_to_df(df_var_win5, survival_indx_ar, nonsurvival_indx_ar)\n",
    "df_var_surv_win5.to_excel(outdir + targetVar + '/survival_win5/' + targetVar + '_survival.xlsx')"
   ]
  },
  {
   "cell_type": "code",
   "execution_count": 11,
   "metadata": {},
   "outputs": [],
   "source": [
    "# Add oxygenation to new df\n",
    "df_var_ox_win5 = ecf.add_category_to_df(df_var_win5, df_ox)\n",
    "\n",
    "for index, row in df_var_ox_win5.iterrows():\n",
    "    if row['Patient'] in nonsurvival_indx_ar:\n",
    "        df_var_ox_win5.at[index, 'Category'] = 'Non-survival'\n",
    "        \n",
    "df_var_ox_win5.to_excel(outdir + targetVar + '/oxygenation_win5/'+ targetVar + '_oxygen_win5.xlsx')"
   ]
  },
  {
   "cell_type": "code",
   "execution_count": 12,
   "metadata": {},
   "outputs": [],
   "source": [
    "# Add severity to new df\n",
    "cat_four = ['Room air','Nasal canula', 'NRM','CPAP-BPAP','HiFlow', 'Intubation']\n",
    "cat_two = ['Room_air','Mild', 'Mild', 'Severe','Severe', 'Severe']\n",
    "df_var_ox2_win5 = df_var_ox_win5.copy()\n",
    "df_var_ox2_win5.replace(cat_four, cat_two, inplace=True)\n",
    "\n",
    "for index, row in df_var_ox2_win5.iterrows():\n",
    "    if row['Patient'] in nonsurvival_indx_ar:\n",
    "        df_var_ox2_win5.at[index, 'Category'] = 'Non-survival'\n",
    "\n",
    "df_var_ox2_win5.to_excel(outdir + targetVar + '/severity_win5/' + targetVar + '_severity_5cat_window5.xlsx')"
   ]
  },
  {
   "cell_type": "code",
   "execution_count": 13,
   "metadata": {},
   "outputs": [],
   "source": [
    "# Add ethnicity to df\n",
    "df_var_etnic_win5 = ecf.add_category_to_df(df_var_win5, df_etnic)\n",
    "df_var_etnic_win5.to_excel(outdir + targetVar + '/ethnicity_win5/' + targetVar + '_ethnicity_win5.xlsx')"
   ]
  },
  {
   "cell_type": "code",
   "execution_count": 14,
   "metadata": {},
   "outputs": [],
   "source": [
    "# Add race to df\n",
    "df_var_race_win5 = ecf.add_category_to_df(df_var_win5, df_race)\n",
    "df_var_race_win5.to_excel(outdir + targetVar + '/race_win5/' + targetVar + '_race_win5.xlsx')"
   ]
  },
  {
   "cell_type": "markdown",
   "metadata": {},
   "source": [
    "### New df with all info for a given variable of interest "
   ]
  },
  {
   "cell_type": "code",
   "execution_count": 15,
   "metadata": {},
   "outputs": [],
   "source": [
    "# Making a dataframe with all the required info\n",
    "df_var_info = df_var.copy()\n",
    "df_var_win5_info = df_var_win5.copy()\n",
    "\n",
    "# Survival data\n",
    "for item in survival_indx_ar:\n",
    "    df_var_info.loc[item, 'Survival'] = 'Survival'\n",
    "    df_var_win5_info.loc[item, 'Survival'] = 'Survival'\n",
    "for item in nonsurvival_indx_ar:\n",
    "    df_var_info.loc[item, 'Survival'] = 'Non-Survival'\n",
    "    df_var_win5_info.loc[item, 'Survival'] = 'Non-Survival'\n",
    "# Oxygenation type\n",
    "for patient, row in df_ox.iterrows():\n",
    "    cat = row[0]\n",
    "    df_var_info.loc[patient, 'Oxygenation'] = cat\n",
    "    df_var_win5_info.loc[patient, 'Oxygenation'] = cat\n",
    "    if df_var_info.loc[patient,'Survival'] == 'Survival':\n",
    "        if cat == 'Room air':\n",
    "            df_var_info.loc[patient, 'Category'] = 'Room air'\n",
    "            df_var_win5_info.loc[patient, 'Category'] = 'Room air'\n",
    "        elif cat == 'Nasal canula' or cat == 'NRM':\n",
    "            df_var_info.loc[patient, 'Category'] = 'Mild'\n",
    "            df_var_win5_info.loc[patient, 'Category'] = 'Mild'\n",
    "        elif cat == 'HiFlow' or cat == 'Intubation' or cat == 'CPAP-BPAP':\n",
    "            df_var_info.loc[patient, 'Category'] = 'Severe'\n",
    "            df_var_win5_info.loc[patient, 'Category'] = 'Severe'\n",
    "    elif df_var_info.loc[patient,'Survival'] == 'Non-Survival':\n",
    "        df_var_info.loc[patient, 'Category'] = 'Non-Survival'\n",
    "        df_var_win5_info.loc[patient, 'Category'] = 'Non-Survival'\n",
    "# ethnicity\n",
    "for patient, row in df_etnic.iterrows():\n",
    "#     print(row[0])\n",
    "    cat = row[0]\n",
    "    df_var_info.loc[patient, 'Ethnicity'] = cat\n",
    "    df_var_win5_info.loc[patient, 'Ethnicity'] = cat\n",
    "    \n",
    "# race\n",
    "for patient, row in df_race.iterrows():\n",
    "    cat = row[0]\n",
    "    df_var_info.loc[patient, 'Race'] = cat\n",
    "    df_var_win5_info.loc[patient, 'Race'] = cat\n",
    "    \n",
    "df_var_info.to_excel(outdir + targetVar + '/' + targetVar + '_dataframe.xlsx')\n",
    "df_var_win5_info.to_excel(outdir + targetVar + '/' + targetVar + '_win5_dataframe.xlsx')"
   ]
  },
  {
   "cell_type": "markdown",
   "metadata": {},
   "source": [
    "### Plotting data coverage and histograms "
   ]
  },
  {
   "cell_type": "code",
   "execution_count": 16,
   "metadata": {},
   "outputs": [],
   "source": [
    "%%capture\n",
    "# Plot datapoints per day\n",
    "ecf.plot_points_per_day(df_var, outdir + targetVar + '/overview/' + targetVar + '_histogram_patients_per_onsetday.pdf')\n",
    "ecf.plot_points_per_day(df_var_win5,outdir + targetVar + '/overview_win5/' + targetVar + '_histogram_patients_per_onsetday_win5.pdf')\n",
    "# Plot datapoints per patient\n",
    "ecf.plot_points_per_patient(df_var, outdir + targetVar + '/overview/' + targetVar + '_histogram_patients_per_readoutDays.pdf')\n",
    "ecf.plot_points_per_patient(df_var_win5, outdir + targetVar + '/overview_win5/' + targetVar + '_histogram_patients_per_readoutDays_win5.pdf')\n",
    "# Plot available data for each patient in a clustermap\n",
    "ecf.plot_clustermap_availdata(df_var, outdir + targetVar + '/overview/' + targetVar + '_data_coverage.pdf')\n",
    "ecf.plot_clustermap_availdata(df_var_win5, outdir + targetVar + '/overview_win5/' + targetVar + '_data_coverage_win5.pdf')"
   ]
  },
  {
   "cell_type": "markdown",
   "metadata": {},
   "source": [
    "### Plotting raw data for each individual patient "
   ]
  },
  {
   "cell_type": "code",
   "execution_count": 17,
   "metadata": {},
   "outputs": [],
   "source": [
    "# Each day no window\n",
    "ecf.plot_ec50(np.array(df_var.index), df_var, outdir + targetVar + '/time_plot', \\\n",
    "              targetVar + '_timeline_all.pdf', targetVar)\n",
    "ecf.plot_ec50(np.array(df_var.index), df_var_win5, outdir + targetVar + '/time_plot_win5', \\\n",
    "              targetVar + '_timeline_all_win5.pdf', targetVar)\n",
    "for indx in np.array(df_var.index):\n",
    "    outfile = targetVar + '_pat_' + str(indx) + '.pdf'\n",
    "    outfile_win = targetVar + '_pat_' + str(indx) + '_win5.pdf'\n",
    "    ecf.plot_ec50([indx], df_var, outdir + targetVar + '/time_plot', outfile, targetVar)\n",
    "    ecf.plot_ec50([indx], df_var_win5, outdir + targetVar + '/time_plot_win5', outfile_win, targetVar)"
   ]
  },
  {
   "cell_type": "markdown",
   "metadata": {},
   "source": [
    "### Plotting survival/nonsurvival using window5"
   ]
  },
  {
   "cell_type": "code",
   "execution_count": 18,
   "metadata": {},
   "outputs": [],
   "source": [
    "%%capture\n",
    "# Gather all pvalues for multiple testing correction\n",
    "# apply only to days with a mimimun number of samples per category (survival, non-survival)\n",
    "min_size_pvalcor = 10\n",
    "day_2_pval, day_2_pvalcor = ecf.multipletesting_day_to_pval(df_var_surv_win5, min_size_pvalcor, False)\n",
    "\n",
    "# boxplot for each day, statistically comparing survival Vs nonSurvival\n",
    "day_st = set(df_var_surv_win5['Day'].tolist())\n",
    "for day in day_st:\n",
    "    ecf.plot_ec50_surival_boxplot(day, df_var_surv_win5, \\\n",
    "                                  outdir + targetVar + '/survival_win5/'+ targetVar + '_survival_boxplot_win5',\n",
    "                                  day_2_pval, day_2_pvalcor, min_size_pvalcor, False, targetVar, 0, 0, surv_cat_order, surv_palet_order)"
   ]
  },
  {
   "cell_type": "code",
   "execution_count": 19,
   "metadata": {},
   "outputs": [],
   "source": [
    "# boxplot and lineplot trajectories\n",
    "ecf.plot_ec50_survival_trajectory(df_var_surv_win5, \\\n",
    "                                  outdir + targetVar + '/survival_win5/'+ targetVar + '_survival_lineplot_trajectory_win5_mean.pdf', \\\n",
    "                                  False, targetVar, 'lineplot', 'mean', 0, 0, surv_cat_order, surv_palet_order)\n",
    "ecf.plot_ec50_survival_trajectory(df_var_surv_win5, \\\n",
    "                                  outdir + targetVar + '/survival_win5/'+ targetVar + '_survival_lineplot_trajectory_win5_median.pdf', \\\n",
    "                                  False, targetVar, 'lineplot', 'median', 0, 0, surv_cat_order, surv_palet_order)"
   ]
  },
  {
   "cell_type": "code",
   "execution_count": 20,
   "metadata": {},
   "outputs": [],
   "source": [
    "# All against all statistical comparison with mann-whitey\n",
    "day_st = set(df_var_surv_win5['Day'].tolist())\n",
    "cat_order = ['Non-survival','Survival']\n",
    "for day in day_st:\n",
    "    ecf.all_against_all_pairwise_mann_whitney(df_var_surv_win5, day, outdir + targetVar + '/survival_win5',\n",
    "                                              '/' + targetVar + '_survival_pairw_stats_win5' + '.txt', \\\n",
    "                                              surv_cat_order)"
   ]
  },
  {
   "cell_type": "code",
   "execution_count": 21,
   "metadata": {},
   "outputs": [],
   "source": [
    "# Correct P-value\n",
    "correct = CORRECTPVAL(outdir + targetVar + '/survival_win5/'+ targetVar + '_survival_pairw_stats_win5' + '.txt')\n",
    "correct.readfile()\n",
    "correct.correctpval_byday(0.05)\n",
    "correct.save_correction()"
   ]
  },
  {
   "cell_type": "markdown",
   "metadata": {},
   "source": [
    "### Plotting oxygen supplementation using window5"
   ]
  },
  {
   "cell_type": "code",
   "execution_count": 22,
   "metadata": {},
   "outputs": [],
   "source": [
    "# Trajectory\n",
    "ecf.lineplot_ec50_category_trajectory(df_var_ox_win5, \n",
    "                                      outdir + targetVar + '/oxygenation_win5/'+ targetVar + '_oxygenation_lineplot_win5_mean.pdf', \\\n",
    "                                      '', '', targetVar, 'mean', oxyg_cat_order, oxyg_palet_order, 0, 0)\n",
    "ecf.lineplot_ec50_category_trajectory(df_var_ox_win5, \n",
    "                                      outdir + targetVar + '/oxygenation_win5/'+ targetVar + '_oxygenation_lineplot_win5_median.pdf', \\\n",
    "                                      '', '', targetVar, 'median', oxyg_cat_order, oxyg_palet_order, 0, 0)"
   ]
  },
  {
   "cell_type": "code",
   "execution_count": 23,
   "metadata": {},
   "outputs": [],
   "source": [
    "# boxplot_day_by_day\n",
    "day_st = set(df_var_ox_win5['Day'].tolist())\n",
    "for day in day_st:\n",
    "    ecf.plot_ec50_category_boxplot(day, df_var_ox_win5, outdir + targetVar + '/oxygenation_win5/oxygenation_boxplot_window5', \n",
    "                                   'oxygen_suppy', oxyg_cat_order, 0, 0, targetVar, oxyg_palet_order)"
   ]
  },
  {
   "cell_type": "code",
   "execution_count": 24,
   "metadata": {},
   "outputs": [],
   "source": [
    "# All against all statistical comparison with mann-whitey\n",
    "day_st = set(df_var_ox_win5['Day'].tolist())\n",
    "for day in day_st:\n",
    "    ecf.all_against_all_pairwise_mann_whitney(df_var_ox_win5, day,  outdir + targetVar + '/oxygenation_win5',\n",
    "                                              '/' + targetVar + '_oxygenation_pairw_stats_win5' + '.txt', \\\n",
    "                                              oxyg_cat_order)"
   ]
  },
  {
   "cell_type": "code",
   "execution_count": 25,
   "metadata": {},
   "outputs": [],
   "source": [
    "# Correct P-value\n",
    "correct = CORRECTPVAL(outdir + targetVar + '/oxygenation_win5/' + targetVar + '_oxygenation_pairw_stats_win5' + '.txt')\n",
    "correct.readfile()\n",
    "correct.correctpval_byday(0.05)\n",
    "correct.save_correction()"
   ]
  },
  {
   "cell_type": "markdown",
   "metadata": {},
   "source": [
    "### Plotting severity using window5"
   ]
  },
  {
   "cell_type": "code",
   "execution_count": 26,
   "metadata": {},
   "outputs": [],
   "source": [
    "# Trajectories\n",
    "ecf.lineplot_ec50_category_trajectory(df_var_ox2_win5, \\\n",
    "                                      outdir + targetVar + '/severity_win5/' + targetVar + '_lineplot_severity_5cat_win5_mean.pdf', \n",
    "                                      '', '', targetVar, 'mean', sever_cat_order, sever_palet_order, '', '')\n",
    "ecf.lineplot_ec50_category_trajectory(df_var_ox2_win5, \\\n",
    "                                      outdir + targetVar + '/severity_win5/' + targetVar + '_lineplot_severity_5cat_win5_median.pdf', \n",
    "                                      '', '', targetVar, 'median', sever_cat_order, sever_palet_order, '', '')"
   ]
  },
  {
   "cell_type": "code",
   "execution_count": 27,
   "metadata": {},
   "outputs": [],
   "source": [
    "# boxplot_day_by_day\n",
    "day_st = set(df_var_ox2_win5['Day'].tolist())\n",
    "for day in day_st:\n",
    "    ecf.plot_ec50_category_boxplot(day, df_var_ox2_win5, \\\n",
    "                                   outdir + targetVar + '/severity_win5/severity_5cat_boxplot_win5', \n",
    "                                   'oxygen_suppy', sever_cat_order, 0, 0, targetVar, sever_palet_order)"
   ]
  },
  {
   "cell_type": "code",
   "execution_count": 28,
   "metadata": {},
   "outputs": [],
   "source": [
    "# All against all statistical comparison with mann-whitney\n",
    "for day in day_st:\n",
    "    ecf.all_against_all_pairwise_mann_whitney(df_var_ox2_win5, day, outdir + targetVar + '/severity_win5/',\n",
    "                                              targetVar + '_severity_5cat_pairw_stats_win5' + '.txt', \\\n",
    "                                              sever_cat_order) "
   ]
  },
  {
   "cell_type": "code",
   "execution_count": 29,
   "metadata": {},
   "outputs": [],
   "source": [
    "# Correct P-value\n",
    "correct = CORRECTPVAL(outdir + targetVar + '/severity_win5/' + targetVar + '_severity_5cat_pairw_stats_win5' + '.txt')\n",
    "correct.readfile()\n",
    "correct.correctpval_byday(0.05)\n",
    "correct.save_correction()"
   ]
  },
  {
   "cell_type": "markdown",
   "metadata": {},
   "source": [
    "### Plotting ethnicity using window5¶"
   ]
  },
  {
   "cell_type": "code",
   "execution_count": 30,
   "metadata": {},
   "outputs": [],
   "source": [
    "# Trajectories\n",
    "ecf.lineplot_ec50_category_trajectory(df_var_etnic_win5, \\\n",
    "                                      outdir + targetVar + '/ethnicity_win5/' + targetVar + '_lineplot_ethnicity_3cat_win5_mean.pdf', \n",
    "                                      '', '', targetVar, 'mean', etnic_cat_order, etnic_palette_order, '', '')\n",
    "ecf.lineplot_ec50_category_trajectory(df_var_etnic_win5, \\\n",
    "                                      outdir + targetVar + '/ethnicity_win5/' + targetVar + '_lineplot_ethnicity_3cat_win5_median.pdf',\n",
    "                                      '', '', targetVar, 'median', etnic_cat_order, etnic_palette_order, '', '')"
   ]
  },
  {
   "cell_type": "code",
   "execution_count": 31,
   "metadata": {},
   "outputs": [],
   "source": [
    "# boxplot_day_by_day\n",
    "day_st = set(df_var_etnic_win5['Day'].tolist())\n",
    "for day in day_st:\n",
    "    ecf.plot_ec50_category_boxplot(day, df_var_etnic_win5, \\\n",
    "                                   outdir + targetVar + '/ethnicity_win5/ethinicity_boxplot_win5', \n",
    "                                   'ethnicity', etnic_cat_order, 0, 0, targetVar, etnic_palette_order)"
   ]
  },
  {
   "cell_type": "code",
   "execution_count": 32,
   "metadata": {},
   "outputs": [],
   "source": [
    "# All against all statistical comparison with mann-whitney\n",
    "for day in day_st:\n",
    "    ecf.all_against_all_pairwise_mann_whitney(df_var_etnic_win5, day, outdir + targetVar + '/ethnicity_win5/',\n",
    "                                              targetVar + '_ethnicity_pairw_stats_win5' + '.txt', etnic_cat_order)"
   ]
  },
  {
   "cell_type": "code",
   "execution_count": 33,
   "metadata": {},
   "outputs": [
    {
     "name": "stderr",
     "output_type": "stream",
     "text": [
      "ERROR:root:File `'correct_pvalue_class.ipynb.py'` not found.\n"
     ]
    }
   ],
   "source": [
    "# Correct P-value\n",
    "%run correct_pvalue_class.ipynb\n",
    "correct = CORRECTPVAL(outdir + targetVar + '/ethnicity_win5/' + targetVar + '_ethnicity_pairw_stats_win5' + '.txt')\n",
    "correct.readfile()\n",
    "correct.correctpval_byday(0.05)\n",
    "correct.save_correction()"
   ]
  },
  {
   "cell_type": "markdown",
   "metadata": {},
   "source": [
    "### Plotting race using window5¶"
   ]
  },
  {
   "cell_type": "code",
   "execution_count": 34,
   "metadata": {},
   "outputs": [],
   "source": [
    "# Trajectories\n",
    "ecf.lineplot_ec50_category_trajectory(df_var_race_win5, \\\n",
    "                                      outdir + targetVar + '/race_win5/' + targetVar + '_lineplot_race_win5_mean.pdf', \n",
    "                                      '', '', targetVar, 'mean', race_cat_order, race_palette_order, '', '')\n",
    "ecf.lineplot_ec50_category_trajectory(df_var_race_win5, \\\n",
    "                                      outdir + targetVar + '/race_win5/' + targetVar + '_lineplot_race_win5_median.pdf',\n",
    "                                      '', '', targetVar, 'median', race_cat_order, race_palette_order, '', '')"
   ]
  },
  {
   "cell_type": "code",
   "execution_count": 35,
   "metadata": {},
   "outputs": [],
   "source": [
    "# boxplot_day_by_day\n",
    "day_st = set(df_var_race_win5['Day'].tolist())\n",
    "for day in day_st:\n",
    "    ecf.plot_ec50_category_boxplot(day, df_var_race_win5, \\\n",
    "                                   outdir + targetVar + '/race_win5/ethinicity_boxplot_win5', \n",
    "                                   'race', race_cat_order, 0, 0, targetVar, race_palette_order)"
   ]
  },
  {
   "cell_type": "code",
   "execution_count": 36,
   "metadata": {},
   "outputs": [],
   "source": [
    "# All against all statistical comparison with mann-whitney\n",
    "for day in day_st:\n",
    "    ecf.all_against_all_pairwise_mann_whitney(df_var_race_win5, day, outdir + targetVar + '/race_win5/',\n",
    "                                              targetVar + '_race_pairw_stats_win5' + '.txt', race_cat_order)"
   ]
  },
  {
   "cell_type": "code",
   "execution_count": 37,
   "metadata": {},
   "outputs": [],
   "source": [
    "# Correct P-value\n",
    "correct = CORRECTPVAL(outdir + targetVar + '/race_win5/' + targetVar + '_race_pairw_stats_win5' + '.txt')\n",
    "correct.readfile()\n",
    "correct.correctpval_byday(0.05)\n",
    "correct.save_correction()"
   ]
  },
  {
   "cell_type": "markdown",
   "metadata": {},
   "source": [
    "### The end"
   ]
  },
  {
   "cell_type": "code",
   "execution_count": 38,
   "metadata": {},
   "outputs": [
    {
     "name": "stdout",
     "output_type": "stream",
     "text": [
      "Finito\n"
     ]
    }
   ],
   "source": [
    "print('Finito')"
   ]
  },
  {
   "cell_type": "code",
   "execution_count": null,
   "metadata": {},
   "outputs": [],
   "source": []
  },
  {
   "cell_type": "code",
   "execution_count": null,
   "metadata": {},
   "outputs": [],
   "source": []
  }
 ],
 "metadata": {
  "kernelspec": {
   "display_name": "Python 3",
   "language": "python",
   "name": "python3"
  },
  "language_info": {
   "codemirror_mode": {
    "name": "ipython",
    "version": 3
   },
   "file_extension": ".py",
   "mimetype": "text/x-python",
   "name": "python",
   "nbconvert_exporter": "python",
   "pygments_lexer": "ipython3",
   "version": "3.7.6"
  }
 },
 "nbformat": 4,
 "nbformat_minor": 4
}
