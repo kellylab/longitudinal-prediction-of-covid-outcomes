{
 "cells": [
  {
   "cell_type": "code",
   "execution_count": 2,
   "metadata": {},
   "outputs": [],
   "source": [
    "import pandas as pd"
   ]
  },
  {
   "cell_type": "code",
   "execution_count": 5,
   "metadata": {},
   "outputs": [],
   "source": [
    "class CATEGORY(object):\n",
    "    \n",
    "    def __init__(self):\n",
    "        return\n",
    "    \n",
    "    @staticmethod\n",
    "    def oxygen_supply_to_df(infile):\n",
    "        df0 = pd.read_excel(infile)\n",
    "        df0 = df0.replace('.', np.nan, regex=False)\n",
    "        df0 = df0.set_index('Patient code')\n",
    "        df0 = df0.rename(columns={'Non-invasive mechanical ventilation (CPAP/BPAP)':'CPAP/BPAP',\n",
    "                                 'Oxygen therapy (nasal canula)': 'Nasal canula'})\n",
    "        df1 = pd.DataFrame(columns=['Patient', 'Category'])\n",
    "        df1 = df1.set_index('Patient')\n",
    "        for index, row in df0.iterrows():\n",
    "            if df0.at[index,'Intubation'] == 1:\n",
    "                df1.at[index,'Category'] = 'Intubation'\n",
    "                continue\n",
    "            elif df0.at[index,'Hi-flow'] == 1:\n",
    "                df1.at[index,'Category'] = 'HiFlow'\n",
    "                continue\n",
    "            elif df0.at[index, 'CPAP/BPAP'] == 1:\n",
    "                df1.at[index,'Category'] = 'CPAP-BPAP'\n",
    "                continue\n",
    "            elif df0.at[index,'Non-Rebreather Mask'] == 1:\n",
    "                df1.at[index,'Category'] = 'NRM'\n",
    "                continue\n",
    "            elif df0.at[index,'Nasal canula'] == 1:\n",
    "                df1.at[index, 'Category'] = 'Nasal canula'\n",
    "                continue\n",
    "            else:\n",
    "                df1.at[index, 'Category'] = 'Room air'\n",
    "                continue\n",
    "        return(df1)  "
   ]
  },
  {
   "cell_type": "code",
   "execution_count": null,
   "metadata": {},
   "outputs": [],
   "source": [
    "class ETHNICITY(object):\n",
    "    def __init__(self):\n",
    "        return\n",
    "    \n",
    "    @staticmethod\n",
    "    def cat_to_df(infile):\n",
    "        df0 = pd.read_excel(infile)\n",
    "        df0 = df0.replace('.', np.nan, regex=False)\n",
    "        df0 = df0.set_index('Patient')\n",
    "        df1 = pd.DataFrame(columns=['Patient', 'Category'])\n",
    "        df1 = df1.set_index('Patient')\n",
    "        for index, row in df0.iterrows():\n",
    "            if df0.at[index,'Ethnicity'] == 1:\n",
    "                df1.at[index,'Category'] = 'Hispanic'\n",
    "                continue\n",
    "            elif df0.at[index,'Ethnicity'] == 0:\n",
    "                df1.at[index,'Category'] = 'Non-hispanic'\n",
    "                continue\n",
    "            else:\n",
    "                df1.at[index, 'Category'] = 'Unknown'\n",
    "                continue\n",
    "        return(df1) "
   ]
  },
  {
   "cell_type": "code",
   "execution_count": null,
   "metadata": {},
   "outputs": [],
   "source": [
    "class RACE(object):\n",
    "    def __init__(self):\n",
    "        return\n",
    "    \n",
    "    @staticmethod\n",
    "    def cat_to_df(infile):\n",
    "        df0 = pd.read_excel(infile)\n",
    "        df0 = df0.replace('.', np.nan, regex=False)\n",
    "        df0 = df0.set_index('Patient')\n",
    "        df1 = pd.DataFrame(columns=['Patient', 'Category'])\n",
    "        df1 = df1.set_index('Patient')\n",
    "        for index, row in df0.iterrows():\n",
    "            if df0.at[index,'Race'] == 1:\n",
    "                df1.at[index,'Category'] = 'Black'\n",
    "                continue\n",
    "            elif df0.at[index,'Race'] == 2:\n",
    "                df1.at[index,'Category'] = 'White'\n",
    "                continue\n",
    "            elif df0.at[index,'Race'] == 3:\n",
    "                df1.at[index,'Category'] = 'Other'\n",
    "                continue\n",
    "            else:\n",
    "                df1.at[index, 'Category'] = 'Unknown'\n",
    "                continue\n",
    "        return(df1)"
   ]
  }
 ],
 "metadata": {
  "kernelspec": {
   "display_name": "Python 3",
   "language": "python",
   "name": "python3"
  },
  "language_info": {
   "codemirror_mode": {
    "name": "ipython",
    "version": 3
   },
   "file_extension": ".py",
   "mimetype": "text/x-python",
   "name": "python",
   "nbconvert_exporter": "python",
   "pygments_lexer": "ipython3",
   "version": "3.7.6"
  }
 },
 "nbformat": 4,
 "nbformat_minor": 4
}
